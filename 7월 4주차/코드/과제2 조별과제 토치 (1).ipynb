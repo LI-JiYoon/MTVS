{
 "cells": [
  {
   "cell_type": "markdown",
   "id": "41df638f",
   "metadata": {},
   "source": [
    "## 얼굴 남기기 crop 변환"
   ]
  },
  {
   "cell_type": "code",
   "execution_count": 1,
   "id": "4457888d",
   "metadata": {},
   "outputs": [
    {
     "data": {
      "text/plain": [
       "'기쁨'"
      ]
     },
     "execution_count": 1,
     "metadata": {},
     "output_type": "execute_result"
    }
   ],
   "source": [
    "import numpy as np\n",
    "import cv2\n",
    "import os\n",
    "from glob import glob\n",
    "from matplotlib import pyplot as plt\n",
    "from tqdm import tqdm\n",
    "face_cascade = cv2.CascadeClassifier('./haarcascade_frontface.xml')\n",
    "\n",
    "\n",
    "# 소스 데이터 path및 경로명\n",
    "src_path = '.\\\\2020-02-092.한국인감정인식_sample\\\\원천데이터'\n",
    "\n",
    "\n",
    "folder_list = os.listdir(src_path)\n",
    "folder = folder_list[0]\n",
    "folder\n"
   ]
  },
  {
   "cell_type": "code",
   "execution_count": 2,
   "id": "393bb742",
   "metadata": {},
   "outputs": [],
   "source": [
    "# 저장할 폴더 제작\n",
    "dest_path = './emotion_cv2'\n",
    "try:\n",
    "    os.mkdir(dest_path)\n",
    "except:\n",
    "    pass"
   ]
  },
  {
   "cell_type": "code",
   "execution_count": 3,
   "id": "70db026c",
   "metadata": {},
   "outputs": [],
   "source": [
    "# 저장할 폴더 제작\n",
    "for f in folder_list:\n",
    "    try:\n",
    "        os.mkdir(os.path.join(dest_path , f))\n",
    "    except:\n",
    "        pass"
   ]
  },
  {
   "cell_type": "code",
   "execution_count": null,
   "id": "cf7a7ba5",
   "metadata": {},
   "outputs": [
    {
     "name": "stderr",
     "output_type": "stream",
     "text": [
      " 27%|█████████████████████▏                                                          | 154/580 [00:04<00:11, 38.24it/s]"
     ]
    }
   ],
   "source": [
    "for cnt, f in enumerate(folder_list):\n",
    "    src_f = os.path.join(src_path, f)\n",
    "    dest_f = os.path.join(dest_path, f)\n",
    "    image_list = os.listdir(src_f)\n",
    "    for i in tqdm(image_list):\n",
    "        src_image = os.path.join(src_f, i)\n",
    "        dest_image = os.path.join(dest_f, i)\n",
    "        img_array = np.fromfile(src_image, np.uint8)\n",
    "        img = cv2.imdecode(img_array, cv2.IMREAD_COLOR)\n",
    "\n",
    "        gray = cv2.cvtColor(img, cv2.COLOR_BGR2GRAY)\n",
    "        faces = face_cascade.detectMultiScale(gray, 1.3, minNeighbors=4, minSize = [256,256])\n",
    "        if len(faces) == 1:\n",
    "            for (x,y,w,h) in faces:\n",
    "                cropped = img[y-60:y+h+60, x-30:x+w+30]\n",
    "                extension = os.path.splitext(i)[1] # 이미지 확장자\n",
    "                try:\n",
    "                    result, encoded_img = cv2.imencode(extension, cropped)\n",
    "                    if result:\n",
    "                        with open(dest_image, mode='w+b') as f:\n",
    "                            encoded_img.tofile(f)\n",
    "                except:\n",
    "                    pass\n"
   ]
  },
  {
   "cell_type": "markdown",
   "id": "61631075",
   "metadata": {},
   "source": [
    "## 중복제거"
   ]
  },
  {
   "cell_type": "code",
   "execution_count": null,
   "id": "77003982",
   "metadata": {},
   "outputs": [],
   "source": [
    "# 한 폴더에 합쳐주기\n",
    "src_path = './emotion_cv2'\n",
    "dest_f = './emotion_cv2/총합'\n",
    "try:\n",
    "    os.mkdir(folder_path)\n",
    "except:\n",
    "    pass\n",
    "\n",
    "import shutil\n",
    "\n",
    "for f in folder_list:\n",
    "    src_f = os.path.join(src_path, f)\n",
    "    image_list = os.listdir(src_f)\n",
    "    for i in tqdm(image_list):\n",
    "        src_image = os.path.join(src_f, i)\n",
    "        shutil.move(src_image,dest_f)"
   ]
  },
  {
   "cell_type": "code",
   "execution_count": null,
   "id": "e39349e1",
   "metadata": {},
   "outputs": [],
   "source": [
    "image_list = os.listdir(dest_f)\n",
    "image_list"
   ]
  },
  {
   "cell_type": "code",
   "execution_count": null,
   "id": "7bd919a9",
   "metadata": {},
   "outputs": [],
   "source": [
    "# 중복제거\n",
    "from PIL import Image\n",
    "\n",
    "for i in tqdm(image_list):\n",
    "    i_list = i.split('_')\n",
    "    cnt = 0\n",
    "    removed_images = []\n",
    "    for i2 in image_list:\n",
    "        i2_list = i2.split('_')\n",
    "        # 사진 파일이 같을 경우\n",
    "        if (i_list[0] == i2_list[0]) & (i2[-11:] == i[-11:]) :\n",
    "            cnt += 1\n",
    "            # 자기 자신이 아닐 경우\n",
    "            if cnt > 1 :\n",
    "                os.remove(os.path.join(dest_f,i2))\n",
    "                removed_images.append(i2)\n",
    "                \n",
    "    for r in removed_images:\n",
    "        image_list.remove(r)"
   ]
  },
  {
   "cell_type": "markdown",
   "id": "f429402a",
   "metadata": {},
   "source": [
    "## 검수자 의견 반영"
   ]
  },
  {
   "cell_type": "code",
   "execution_count": null,
   "id": "a0cf5de2",
   "metadata": {
    "scrolled": true
   },
   "outputs": [],
   "source": [
    "import numpy as np\n",
    "import pandas as pd\n",
    "import json\n",
    "\n",
    "# json 파일 불러오기 (전부 불러오기\n",
    "root = '.\\\\2020-02-092.한국인감정인식_sample\\\\라벨링데이터\\\\' # 절대경로임.\n",
    "classes = ['기쁨', '당황', '분노', '불안', '상처','슬픔','중립']\n",
    "\n",
    "for class_name in classes:\n",
    "    with open( root + class_name +'\\\\img_emotion_sample_data' + '(' + class_name + ')' +'.json') as f:\n",
    "        globals()['감정_{}'.format(class_name)] = json.load(f)"
   ]
  },
  {
   "cell_type": "code",
   "execution_count": null,
   "id": "2e4eef26",
   "metadata": {},
   "outputs": [],
   "source": [
    "감정_기쁨"
   ]
  },
  {
   "cell_type": "code",
   "execution_count": null,
   "id": "bd6b12cc",
   "metadata": {},
   "outputs": [],
   "source": [
    "#json 파일별 데이터프레임 생성\n",
    "df_delight =pd.DataFrame(감정_기쁨)\n",
    "df_embarrassing = pd.DataFrame(감정_당황)\n",
    "df_anger = pd.DataFrame(감정_분노)\n",
    "df_anxious = pd.DataFrame(감정_불안)\n",
    "df_hurt = pd.DataFrame(감정_상처)\n",
    "df_sad = pd.DataFrame(감정_슬픔)\n",
    "df_neutral =pd.DataFrame(감정_중립)"
   ]
  },
  {
   "cell_type": "code",
   "execution_count": null,
   "id": "6c26ec63",
   "metadata": {},
   "outputs": [],
   "source": [
    "# 데이터프레임들 연결\n",
    "df_list = [df_delight,df_embarrassing,df_anger,df_anxious,df_hurt,df_sad,df_neutral]\n",
    "df_all = pd.concat(df_list, ignore_index=True)"
   ]
  },
  {
   "cell_type": "code",
   "execution_count": null,
   "id": "c8cc5eca",
   "metadata": {},
   "outputs": [],
   "source": [
    "# dropout\n",
    "columns = df_delight.columns\n",
    "drop_columns =['gender', 'age', 'isProf','bg_uploader']\n",
    "df_all.drop(drop_columns, axis=1, inplace=True)"
   ]
  },
  {
   "cell_type": "code",
   "execution_count": null,
   "id": "5359c290",
   "metadata": {},
   "outputs": [],
   "source": [
    "df_all['annot_A'] = df_all['annot_A'].apply(lambda x : x['faceExp'])\n",
    "df_all['annot_B'] = df_all['annot_B'].apply(lambda x : x['faceExp'])\n",
    "df_all['annot_C'] = df_all['annot_C'].apply(lambda x : x['faceExp'])\n",
    "df_all"
   ]
  },
  {
   "cell_type": "code",
   "execution_count": null,
   "id": "ad33aaf9",
   "metadata": {},
   "outputs": [],
   "source": [
    "# 이름 파싱\n",
    "df_all['filename'] = df_all['filename'].apply(lambda x: x[:65]+x[-11:])"
   ]
  },
  {
   "cell_type": "code",
   "execution_count": null,
   "id": "fb7e763d",
   "metadata": {},
   "outputs": [],
   "source": [
    "dm_df_all = pd.get_dummies(df_all, columns=['annot_A','annot_B','annot_C'], prefix='')\n",
    "dm_df_all"
   ]
  },
  {
   "cell_type": "code",
   "execution_count": null,
   "id": "54a85edf",
   "metadata": {},
   "outputs": [],
   "source": [
    "for i in classes:\n",
    "    df_all[i] = dm_df_all[f'_{i}'].sum(axis=1)"
   ]
  },
  {
   "cell_type": "code",
   "execution_count": null,
   "id": "5387be27",
   "metadata": {},
   "outputs": [],
   "source": [
    "final_df_all = df_all.copy()\n",
    "final_df_all = final_df_all.drop(['faceExp_uploader','annot_A','annot_B','annot_C'], axis=1)\n",
    "final_df_all = final_df_all.groupby('filename').sum()\n",
    "final_df_all"
   ]
  },
  {
   "cell_type": "code",
   "execution_count": null,
   "id": "a6577ef7",
   "metadata": {},
   "outputs": [],
   "source": [
    "final_df_all[final_df_all.index == '2b69d97fbf9eab1da334021e7dd1352903907c88f84640d859cbdce1263ced5c_002-001.jpg']"
   ]
  },
  {
   "cell_type": "code",
   "execution_count": null,
   "id": "692d66bd",
   "metadata": {},
   "outputs": [],
   "source": [
    "vote_list = final_df_all.max(axis=1)\n",
    "vote_list"
   ]
  },
  {
   "cell_type": "code",
   "execution_count": null,
   "id": "abf2b93d",
   "metadata": {},
   "outputs": [],
   "source": [
    "import shutil\n",
    "import os\n",
    "from glob import glob\n",
    "from tqdm import tqdm\n",
    "\n",
    "\n",
    "# 경로 설정\n",
    "save_dir = '.\\\\emotion_cv2\\\\final_data'\n",
    "image_list = glob('emotion_cv2\\\\총합\\\\*.jpg')\n",
    "\n",
    "\n",
    "# 최종 결과물 저장할 폴더 제작\n",
    "try:\n",
    "    os.mkdir(save_dir)\n",
    "except:\n",
    "    pass\n",
    "\n",
    "try:\n",
    "    os.mkdir('.\\\\emotion_cv2\\\\final_data\\\\재분류 필요')\n",
    "except:\n",
    "    pass\n",
    "\n",
    "# 저장할 폴더 제작\n",
    "for f in folder_list:\n",
    "    try:\n",
    "        os.mkdir(os.path.join(save_dir , f))\n",
    "    except:\n",
    "        pass\n",
    "\n",
    "\n",
    "\n",
    "for img in tqdm(image_list):\n",
    "    # 이미지 있는지 체크\n",
    "    \n",
    "    if os.path.isfile(img):\n",
    "        # max값 찾아서 index에 저장하고 몇번 max인지 횟수도 저장\n",
    "        # 62-15 = 47\n",
    "        file_name = img[15:]\n",
    "        df_file_name = str(file_name[:65] + file_name[-11:])\n",
    "        row = final_df_all[final_df_all.index == df_file_name]\n",
    "        row_list = list(row.values[0])\n",
    "        \n",
    "        max_index = -1\n",
    "        max_index_count = 0\n",
    "        for cnt2, i in enumerate(row_list):\n",
    "            max_vote = vote_list[vote_list.index== df_file_name].values[0]\n",
    "            if max_vote == i:\n",
    "                max_index = cnt2\n",
    "                max_index_count += 1\n",
    "\n",
    "        ## 최종적으로 이미지 복사\n",
    "        if max_index_count == 1:\n",
    "            img_folder_name = classes[max_index]\n",
    "            shutil.copy(img, os.path.join(save_dir ,img_folder_name ))\n",
    "        else :\n",
    "            shutil.copy(img, os.path.join(save_dir , \"재분류 필요\" ))"
   ]
  },
  {
   "cell_type": "markdown",
   "id": "bfbe28df",
   "metadata": {},
   "source": [
    "## 폴더 합치기 당황 + 불안, 슬픔 + 상처"
   ]
  },
  {
   "cell_type": "code",
   "execution_count": null,
   "id": "6008c284",
   "metadata": {},
   "outputs": [],
   "source": [
    "# 당황 + 불안\n",
    "\n",
    "f_path = os.path.join(save_dir, '불안')\n",
    "image_list = os.listdir(f_path)\n",
    "for i in image_list:\n",
    "    i_path = os.path.join(f_path, i)\n",
    "    shutil.move(i_path, os.path.join(save_dir, '당황'))\n",
    "os.rmdir(f_path)\n",
    "    \n",
    "f_path = os.path.join(save_dir, '상처')\n",
    "image_list = os.listdir(f_path)\n",
    "for i in image_list:\n",
    "    i_path = os.path.join(f_path, i)\n",
    "    shutil.move(i_path, os.path.join(save_dir, '슬픔'))\n",
    "os.rmdir(f_path)"
   ]
  },
  {
   "cell_type": "code",
   "execution_count": null,
   "id": "99a52af9",
   "metadata": {},
   "outputs": [],
   "source": [
    "# 재분류 폴더 및 파일 삭제, 필요시 제외시켜줄 수 있음\n",
    "shutil.rmtree('.\\\\emotion_cv2\\\\final_data\\\\재분류 필요')"
   ]
  },
  {
   "cell_type": "markdown",
   "id": "7823fb6d",
   "metadata": {},
   "source": [
    "# 모델 설계 및 분석 파이토치로 변경"
   ]
  },
  {
   "cell_type": "code",
   "execution_count": 1,
   "id": "4deb222d",
   "metadata": {},
   "outputs": [],
   "source": [
    "# 시작 전 캐시 지우기\n",
    "import torch\n",
    "torch.cuda.empty_cache()\n",
    "\n",
    "# 디버깅용\n",
    "import os\n",
    "os.environ['CUDA_LAUNCH_BLOCKING'] = \"1\"\n",
    "os.environ[\"CUDA_VISIBLE_DEVICES\"] = \"0\"\n",
    "os.environ['KMP_DUPLICATE_LIB_OK']='True'"
   ]
  },
  {
   "cell_type": "code",
   "execution_count": 2,
   "id": "6951bb33",
   "metadata": {},
   "outputs": [],
   "source": [
    "import os\n",
    "import shutil\n",
    "\n",
    "# dataset폴더의 데이터 불러오기\n",
    "# classes_list에 폴더명으로 클래스 넣기\n",
    "# os.listdir은 경로 하위의 모든 파일 및 폴더 목록을 리스트로 가져오는 메서드\n",
    "original_dataset_dir = '.\\\\emotion_cv2\\\\final_data'   \n",
    "classes_list = os.listdir(original_dataset_dir) \n",
    "\n",
    "# base_dir만들기\n",
    "base_dir = './splitted2' \n",
    "try:\n",
    "    os.mkdir(base_dir)\n",
    "except:\n",
    "    pass\n",
    "\n",
    "# base폴더 안에 train, val, test폴더 만들기\n",
    "train_dir = os.path.join(base_dir, 'train') \n",
    "validation_dir = os.path.join(base_dir, 'val')\n",
    "test_dir = os.path.join(base_dir, 'test')\n",
    "try:\n",
    "    os.mkdir(train_dir)\n",
    "    os.mkdir(validation_dir)\n",
    "    os.mkdir(test_dir)\n",
    "except:\n",
    "    pass\n",
    "\n",
    "# 클래스 이름 리스트에 해당하는 폴더들을 각 폴더 안에 제작\n",
    "for cls in classes_list:\n",
    "    try:\n",
    "        os.mkdir(os.path.join(train_dir, cls))\n",
    "        os.mkdir(os.path.join(validation_dir, cls))\n",
    "        os.mkdir(os.path.join(test_dir, cls))\n",
    "    except:\n",
    "        pass"
   ]
  },
  {
   "cell_type": "code",
   "execution_count": 3,
   "id": "d20a6b23",
   "metadata": {},
   "outputs": [
    {
     "name": "stdout",
     "output_type": "stream",
     "text": [
      "Train size( 기쁨 ):  51\n",
      "Validation size( 기쁨 ):  17\n",
      "Test size( 기쁨 ):  17\n",
      "Train size( 당황 ):  90\n",
      "Validation size( 당황 ):  30\n",
      "Test size( 당황 ):  30\n",
      "Train size( 분노 ):  55\n",
      "Validation size( 분노 ):  18\n",
      "Test size( 분노 ):  18\n",
      "Train size( 슬픔 ):  116\n",
      "Validation size( 슬픔 ):  38\n",
      "Test size( 슬픔 ):  38\n",
      "Train size( 중립 ):  151\n",
      "Validation size( 중립 ):  50\n",
      "Test size( 중립 ):  50\n"
     ]
    }
   ],
   "source": [
    "import math\n",
    "    \n",
    "for cls in classes_list:\n",
    "    \n",
    "    # 오리지널 dataset에 클래스 이름별로 접근해 해당 파일들의 이름을 fnames에 저장\n",
    "    path = os.path.join(original_dataset_dir, cls)\n",
    "    fnames = os.listdir(path)\n",
    "    \n",
    "    # fnames의 크기에 따라 train, val, test size를 6:2:2로 결정\n",
    "    train_size = math.floor(len(fnames) * 0.6)\n",
    "    validation_size = math.floor(len(fnames) * 0.2)\n",
    "    test_size = math.floor(len(fnames) * 0.2)\n",
    "    \n",
    "    # train 사이즈 만큼 f_names를 잘라서 train_fnames로 만들고 이를 해당 폴더에 복사\n",
    "    train_fnames = fnames[:train_size]\n",
    "    print(\"Train size(\",cls,\"): \", len(train_fnames))\n",
    "    for fname in train_fnames:\n",
    "        src = os.path.join(path, fname)\n",
    "        dst = os.path.join(os.path.join(train_dir, cls), fname)\n",
    "        shutil.copyfile(src, dst)\n",
    "    \n",
    "    # val 사이즈 만큼 f_names를 잘라서 train_fnames로 만들고 이를 해당 폴더에 복사\n",
    "    validation_fnames = fnames[train_size:(validation_size + train_size)]\n",
    "    print(\"Validation size(\",cls,\"): \", len(validation_fnames))\n",
    "    for fname in validation_fnames:\n",
    "        src = os.path.join(path, fname)\n",
    "        dst = os.path.join(os.path.join(validation_dir, cls), fname)\n",
    "        shutil.copyfile(src, dst)\n",
    "\n",
    "    # test 사이즈 만큼 f_names를 잘라서 train_fnames로 만들고 이를 해당 폴더에 복사\n",
    "    test_fnames = fnames[(train_size+validation_size):(validation_size + train_size +test_size)]\n",
    "    print(\"Test size(\",cls,\"): \", len(test_fnames))\n",
    "    for fname in test_fnames:\n",
    "        src = os.path.join(path, fname)\n",
    "        dst = os.path.join(os.path.join(test_dir, cls), fname)\n",
    "        shutil.copyfile(src, dst)"
   ]
  },
  {
   "cell_type": "code",
   "execution_count": 4,
   "id": "100a88e3",
   "metadata": {},
   "outputs": [
    {
     "data": {
      "text/plain": [
       "device(type='cuda')"
      ]
     },
     "execution_count": 4,
     "metadata": {},
     "output_type": "execute_result"
    }
   ],
   "source": [
    "### 베이스 라인 모델 학습\n",
    "import torch\n",
    "import os\n",
    "\n",
    "# CUDA사용가능 여부 확인 및 가능할시 device를 cuda로 설정\n",
    "USE_CUDA = torch.cuda.is_available()\n",
    "DEVICE = torch.device(\"cuda\" if USE_CUDA else \"cpu\")\n",
    "\n",
    "# 학습 및 평가 과정에서 배치사이즈를 여러번 입력해야 함.\n",
    "# 배치 사이즈, 에포크를 변경하고 싶을 때 모든 경우를 다 찾아서 바꿔주기 어려우므로 변수에 저장해서 사용\n",
    "BATCH_SIZE = 24\n",
    "EPOCH = 10\n",
    "DEVICE"
   ]
  },
  {
   "cell_type": "code",
   "execution_count": 5,
   "id": "db90eabb",
   "metadata": {},
   "outputs": [],
   "source": [
    "import torchvision.transforms as transforms\n",
    "from torchvision.datasets import ImageFolder \n",
    "\n",
    "# transforms.Compose는 이미지 전처리 및 증강(augumentation)에서 사용.\n",
    "# 좌우 반전 밝기 조절 임의 확대 등이 있음.\n",
    "# .Resize는 이미지 크기 조절, ToTensor는 이미지를 텐서의 형태로 변환하고 모든 값을 0에서 1사이로 정규화함.\n",
    "transform_base = transforms.Compose([transforms.Resize((64,64)), transforms.ToTensor()])\n",
    "\n",
    "# ImageFolder메서드는 데이터셋을 불러오는 메서드. 하나의 클래스가 하나의 폴더에 자동으로 대응됨. \n",
    "# root옵션에 데이터를 불러올 경로 설정, transform 옵션에는 데이터를 불러온 후 전처리 또는 증강할 방법을 지정\n",
    "# 현재는 위에서 .Compose메서드로 만들어놓은 것을 사용\n",
    "train_dataset = ImageFolder(root='./splitted2/train', transform=transform_base) \n",
    "val_dataset = ImageFolder(root='./splitted2/val', transform=transform_base)"
   ]
  },
  {
   "cell_type": "code",
   "execution_count": 6,
   "id": "3f0f8dde",
   "metadata": {},
   "outputs": [],
   "source": [
    "from torch.utils.data import DataLoader\n",
    "\n",
    "# Dataloader는 불러온 이미지 데이터를 주어진 조건에 따라 미니 배치 단위로 분리하는 역할을 수행.\n",
    "# 학습 과정에 사용될 Dataloader는 train_dataset을 이용하여 생성\n",
    "# shuffle 트루 옵션으로 데이터의 순서를 섞어줄 수 있어 Label이 정보의 순서를 기억하는 것을 방지\n",
    "train_loader = torch.utils.data.DataLoader(train_dataset, batch_size=BATCH_SIZE, shuffle=True, num_workers=4)\n",
    "val_loader = torch.utils.data.DataLoader(val_dataset, batch_size=BATCH_SIZE, shuffle=True, num_workers=4)"
   ]
  },
  {
   "cell_type": "code",
   "execution_count": 7,
   "id": "0019118e",
   "metadata": {},
   "outputs": [],
   "source": [
    "# 베이스 라인 모델 설계\n",
    "\n",
    "import torch.nn as nn\n",
    "import torch.nn.functional as F\n",
    "import torch.optim as optim\n",
    " \n",
    "# 딥러닝 모델과 관련된 기본적인 함수를 포함하는 nn.Module클래스 상속    \n",
    "# 상속을 하였으므로 nn.Module안의 여러 메서드를 사용 가능.\n",
    "class Net(nn.Module): \n",
    "    \n",
    "    # 모델에서 사용할 모든 레이어를 정의\n",
    "    def __init__(self):     \n",
    "    \n",
    "        super(Net, self).__init__()     # nn.Module내에 있는 메서드를 상속\n",
    "\n",
    "        self.conv1 = nn.Conv2d(3, 32, 3, padding=1)   # Conv2d 레이어 정의 처음 3개 파라미터는 입력채널 수, 출력 채널 수, 커널 크기\n",
    "        self.pool = nn.MaxPool2d(2,2)                 # 맥스풀링. 파라미터는 커널 크기, stride의미\n",
    "        self.conv2 = nn.Conv2d(32, 64, 3, padding=1)  # 위와 비슷하게 컨볼루션 레이어 설정\n",
    "        self.conv3 = nn.Conv2d(64, 64, 3, padding=1)  \n",
    "\n",
    "        # Flatten이후 사용될 첫 번째 Fully Connected Layer정의. Flatten이후 사용되므로 Layer입력 채널 수는 x.view()의 출력 채널 수\n",
    "        self.fc1 = nn.Linear(64*64, 512)\n",
    "        self.fc2 = nn.Linear(512, 5)             # 두번째 완전연결레이어 정의 모델의 마지막 레이어라 클래스의 수만큼 출력\n",
    "    \n",
    "    \n",
    "    # 클래스 내부의 forward함수는 모델이 학습 데이터를 입력받아 Forward Propagation을 실행시켜 Output계산하는 과정\n",
    "    def forward(self, x):  \n",
    "        \n",
    "        # init의 self.으로 만든 이름들을 이용해서 forward진행.\n",
    "        #  컨볼루션 레이어로 featuremap생성\n",
    "        x = self.conv1(x)\n",
    "        # 비선형 활성화 함수 렐루 껴넣음\n",
    "        x = F.relu(x)  \n",
    "        \n",
    "        # 풀링 적용\n",
    "        x = self.pool(x) \n",
    "        # p는 비율, 0.25는 25프로의 노드를 드롭아웃 하겠다는 의미, training = self.training은 학습 모드와 검증 모드 구별을 위해 사용\n",
    "        # 학습 모드일 때는 드롭아웃을 쓰지만 평과 과정에서는 모든 노드를 사용해야하므로\n",
    "        x = F.dropout(x, p=0.25, training=self.training) \n",
    "\n",
    "        # 위와 마찬가지로 흘러감\n",
    "        x = self.conv2(x)\n",
    "        x = F.relu(x) \n",
    "        x = self.pool(x) \n",
    "        x = F.dropout(x, p=0.25, training=self.training)\n",
    "\n",
    "        x = self.conv3(x) \n",
    "        x = F.relu(x) \n",
    "        x = self.pool(x) \n",
    "        x = F.dropout(x, p=0.25, training=self.training)\n",
    "\n",
    "        # 생성된 featrue Map을 1차원으로 펼치는 과정인 Flatten수행\n",
    "        x = x.view(-1, 64*64)  \n",
    "        # flatten된 tensor를 리니어 레이어에 통과시킴\n",
    "        x = self.fc1(x) \n",
    "        x = F.relu(x) \n",
    "        x = F.dropout(x, p=0.5, training=self.training)\n",
    "        \n",
    "        # 마찬가지\n",
    "        x = self.fc2(x) \n",
    "\n",
    "        # soft_max함수를 이용해서 각 클래스에 속할 확률을 Output값으로 출력\n",
    "        return F.log_softmax(x, dim=1)  \n",
    "\n",
    "# 모델을 현재 사용중인 장비에 할당하며 생성\n",
    "model_base = Net().to(DEVICE)  \n",
    "optimizer = optim.Adam(model_base.parameters(), lr=0.001) "
   ]
  },
  {
   "cell_type": "code",
   "execution_count": 8,
   "id": "8146bccf",
   "metadata": {},
   "outputs": [],
   "source": [
    "# 학습용 함수 모델, 트레인로더, 옵티마이저 받음\n",
    "from tqdm import tqdm\n",
    "def train(model, train_loader, optimizer):\n",
    "    model.train()    # 입력받는 모델을 학습 모드로 설정\n",
    "    # train_loader에는 (data, target) 형태가 미니 배치 단위로 묶여 있음.\n",
    "    # enumerate를 적용하여 아래와 같은 형태로 for문 실행\n",
    "    for batch_idx, (data, target) in tqdm(enumerate(train_loader)):\n",
    "        \n",
    "        # 사용중인 장비에 해당 data와 target변수를 할당\n",
    "        data, target = data.to(DEVICE), target.to(DEVICE) \n",
    "        \n",
    "        # 이전 Batch의 Gradient값이 optimizer에 저장되어 있으므로 optimizer를 초기화\n",
    "        optimizer.zero_grad() \n",
    "        \n",
    "        # 모델에 data를 넣어 output값을 계산\n",
    "        output = model(data)  \n",
    "        # output값과 target값 사이의 loss를 계산.\n",
    "        # 분류문제에는 Cross Entropy Loss 사용\n",
    "        loss = F.cross_entropy(output, target) \n",
    "        \n",
    "        # loss값을 바탕으로 BackPropagation을 통해 계산한 Gradient값을 각 Parameter에 할당\n",
    "        loss.backward()\n",
    "        # 각 파라미터에 할당된 Gradient값을 이용해 모델의 Parameter를 업데이트 함\n",
    "        optimizer.step()  \n",
    "#         torch.cuda.empty_cache()\n"
   ]
  },
  {
   "cell_type": "code",
   "execution_count": 9,
   "id": "36fba50e",
   "metadata": {},
   "outputs": [],
   "source": [
    "# 평가를 위한 함수\n",
    "def evaluate(model, test_loader):\n",
    "    # 입력받은 모델을 평가모드로 설정\n",
    "    model.eval()  \n",
    "    # 미니 배치별로 Loss를 합산해서 저장할 변수인 test_loss를 선언\n",
    "    test_loss = 0 \n",
    "    # 올바르게 예측한 데이터의 수를 세는 변수인 correct선언\n",
    "    correct = 0   \n",
    "    \n",
    "    with torch.no_grad():        # 모델을 평가할 때에는 Parameter를 업데이트 하지 않아야 함, torch.no_grad()메서드로 업데이트 중단\n",
    "        \n",
    "        for data, target in test_loader:  \n",
    "            data, target = data.to(DEVICE), target.to(DEVICE)  \n",
    "            output = model(data) \n",
    "            \n",
    "            # 로스를 계산해서 해당 로스 값을 .item()을 test_loss에 더해줌\n",
    "            test_loss += F.cross_entropy(output,target, reduction='sum').item() \n",
    " \n",
    "            # 모델에 입력된 test데이터가 33개의 클래스에 속할 확률값이 각각 output으로 출력됨. 따라서 가장 높은 값 추출 pred에 저장\n",
    "            pred = output.max(1, keepdim=True)[1]\n",
    "            # 만약 target.view_as(pred)를 통해 target텐서 구조를 pred 텐서와 같은 모양으로 정렬\n",
    "            \n",
    "            # view_as 메서드는 적용 대상 Tensor를 메서드에 입력되는 Tensor의 모양대로 재정렬함.\n",
    "            # 앞서 모델 구조를 구성할 때(flatten) 학습했던 view()함수는 정렬하고 싶은 Tensor모양을 숫자로 직접지정한다는 것에서 차이\n",
    "            # eq 메서드는 객체 간의 비교 연산자 일치하면 1, 일치하지 않으면 0을 반환\n",
    "            # .sum부터는 왜 붙이지..?\n",
    "            correct += pred.eq(target.view_as(pred)).sum().item()\n",
    "#             torch.cuda.empty_cache()\n",
    "    \n",
    "    # 모든 미니 Batch합한 loss값을 batch수로 나누어 미니 배치마다 계산된 loss값의 평균을 구함\n",
    "    test_loss /= len(test_loader.dataset) \n",
    "    \n",
    "    # 정확도 평균 구하기\n",
    "    test_accuracy = 100. * correct / len(test_loader.dataset) \n",
    "    return test_loss, test_accuracy  "
   ]
  },
  {
   "cell_type": "code",
   "execution_count": 10,
   "id": "e3c8bef5",
   "metadata": {},
   "outputs": [
    {
     "name": "stderr",
     "output_type": "stream",
     "text": [
      "20it [00:02,  7.15it/s]\n"
     ]
    },
    {
     "name": "stdout",
     "output_type": "stream",
     "text": [
      "-------------- epoch 1 ----------------\n",
      "train Loss: 1.5483, Accuracy: 32.61%\n",
      "val Loss: 1.5480, Accuracy: 32.68%\n",
      "Completed in 0m 11s\n"
     ]
    },
    {
     "name": "stderr",
     "output_type": "stream",
     "text": [
      "20it [00:00, 22.85it/s]\n"
     ]
    },
    {
     "name": "stdout",
     "output_type": "stream",
     "text": [
      "-------------- epoch 2 ----------------\n",
      "train Loss: 1.5485, Accuracy: 32.61%\n",
      "val Loss: 1.5526, Accuracy: 32.68%\n",
      "Completed in 0m 9s\n"
     ]
    },
    {
     "name": "stderr",
     "output_type": "stream",
     "text": [
      "20it [00:00, 23.54it/s]\n"
     ]
    },
    {
     "name": "stdout",
     "output_type": "stream",
     "text": [
      "-------------- epoch 3 ----------------\n",
      "train Loss: 1.5266, Accuracy: 32.61%\n",
      "val Loss: 1.5388, Accuracy: 32.68%\n",
      "Completed in 0m 9s\n"
     ]
    },
    {
     "name": "stderr",
     "output_type": "stream",
     "text": [
      "20it [00:00, 22.06it/s]\n"
     ]
    },
    {
     "name": "stdout",
     "output_type": "stream",
     "text": [
      "-------------- epoch 4 ----------------\n",
      "train Loss: 1.5335, Accuracy: 35.64%\n",
      "val Loss: 1.5694, Accuracy: 30.72%\n",
      "Completed in 0m 9s\n"
     ]
    },
    {
     "name": "stderr",
     "output_type": "stream",
     "text": [
      "20it [00:00, 24.42it/s]\n"
     ]
    },
    {
     "name": "stdout",
     "output_type": "stream",
     "text": [
      "-------------- epoch 5 ----------------\n",
      "train Loss: 1.4502, Accuracy: 36.07%\n",
      "val Loss: 1.5523, Accuracy: 34.64%\n",
      "Completed in 0m 9s\n"
     ]
    },
    {
     "name": "stderr",
     "output_type": "stream",
     "text": [
      "20it [00:00, 25.39it/s]\n"
     ]
    },
    {
     "name": "stdout",
     "output_type": "stream",
     "text": [
      "-------------- epoch 6 ----------------\n",
      "train Loss: 1.3514, Accuracy: 49.24%\n",
      "val Loss: 1.6088, Accuracy: 14.38%\n",
      "Completed in 0m 9s\n"
     ]
    },
    {
     "name": "stderr",
     "output_type": "stream",
     "text": [
      "20it [00:00, 23.35it/s]\n"
     ]
    },
    {
     "name": "stdout",
     "output_type": "stream",
     "text": [
      "-------------- epoch 7 ----------------\n",
      "train Loss: 1.2737, Accuracy: 47.73%\n",
      "val Loss: 1.6681, Accuracy: 18.95%\n",
      "Completed in 0m 9s\n"
     ]
    },
    {
     "name": "stderr",
     "output_type": "stream",
     "text": [
      "20it [00:00, 22.81it/s]\n"
     ]
    },
    {
     "name": "stdout",
     "output_type": "stream",
     "text": [
      "-------------- epoch 8 ----------------\n",
      "train Loss: 1.1713, Accuracy: 54.43%\n",
      "val Loss: 1.6912, Accuracy: 21.57%\n",
      "Completed in 0m 9s\n"
     ]
    },
    {
     "name": "stderr",
     "output_type": "stream",
     "text": [
      "20it [00:00, 22.45it/s]\n"
     ]
    },
    {
     "name": "stdout",
     "output_type": "stream",
     "text": [
      "-------------- epoch 9 ----------------\n",
      "train Loss: 1.1119, Accuracy: 55.94%\n",
      "val Loss: 1.7160, Accuracy: 22.22%\n",
      "Completed in 0m 9s\n"
     ]
    },
    {
     "name": "stderr",
     "output_type": "stream",
     "text": [
      "20it [00:00, 22.08it/s]\n"
     ]
    },
    {
     "name": "stdout",
     "output_type": "stream",
     "text": [
      "-------------- epoch 10 ----------------\n",
      "train Loss: 1.0669, Accuracy: 58.53%\n",
      "val Loss: 1.7321, Accuracy: 26.14%\n",
      "Completed in 0m 10s\n"
     ]
    }
   ],
   "source": [
    "import time\n",
    "import copy\n",
    "\n",
    "\n",
    "# \n",
    "def train_baseline(model ,train_loader, val_loader, optimizer, num_epochs = 30):\n",
    "    \n",
    "    # 정확도가 가장 높은 모델의 정확도를 저장하는 변수\n",
    "    best_acc = 0.0  \n",
    "    \n",
    "    # 정확도가 가장 높은 모델을 저장할 변수\n",
    "    best_model_wts = copy.deepcopy(model.state_dict()) \n",
    " \n",
    "    # 에포크 단위로 돌아감\n",
    "    for epoch in range(1, num_epochs + 1):\n",
    "        # 소요시간 측정용\n",
    "        since = time.time()\n",
    "        \n",
    "        # train함수와 evaluate함수 이용하여 train, val의 loss와 정확도 계산\n",
    "        train(model, train_loader, optimizer)\n",
    "        train_loss, train_acc = evaluate(model, train_loader) \n",
    "        val_loss, val_acc = evaluate(model, val_loader)\n",
    "        \n",
    "        # 현재 epoch의 검증 정확도가 최고 정확도 보다 높다면 best_acc를 현재 epoch의 검증 정확도로 업데이트 하고 모델 저장\n",
    "        if val_acc > best_acc: \n",
    "            best_acc = val_acc \n",
    "            best_model_wts = copy.deepcopy(model.state_dict())\n",
    "        \n",
    "        # 한에포크당 소요시간 계산\n",
    "        time_elapsed = time.time() - since \n",
    "        print('-------------- epoch {} ----------------'.format(epoch))\n",
    "        print('train Loss: {:.4f}, Accuracy: {:.2f}%'.format(train_loss, train_acc))   \n",
    "        print('val Loss: {:.4f}, Accuracy: {:.2f}%'.format(val_loss, val_acc))\n",
    "        print('Completed in {:.0f}m {:.0f}s'.format(time_elapsed // 60, time_elapsed % 60)) \n",
    "    \n",
    "    # 정확도가 가장 높은 모델을 불러온 뒤 반환\n",
    "    model.load_state_dict(best_model_wts)  \n",
    "    return model\n",
    " \n",
    "# 베이스라인 모델을 정의한 함수를 이용해 학습\n",
    "base = train_baseline(model_base, train_loader, val_loader, optimizer, EPOCH)  #(16)\n",
    "\n",
    "# 학습 완료 모델 저장\n",
    "torch.save(base,'baseline.pt')"
   ]
  },
  {
   "cell_type": "code",
   "execution_count": 59,
   "id": "adf0af26",
   "metadata": {},
   "outputs": [],
   "source": [
    "# transform.compose()는 이미지 데이터의 전처리, Augmentation등의 과정에서 사용되는 메서드\n",
    "\n",
    "data_transforms = {\n",
    "    'train': transforms.Compose([transforms.Resize([64,64]), \n",
    "        # 좌우, 상하 반전, 괄호안에 p입력하면 비율 조정 가능. 기본값 0.5\n",
    "        transforms.RandomHorizontalFlip(),  \n",
    "                                 \n",
    "        # 이미지 일부를 랜덤하게 잘라 52*52사이즈로 변경, \n",
    "        #이미지 가운데 부분 혹은 오른쪽 위 또는 왼쪽 아래 부분만이 선택되게 할 수 있음 center crip 등 이용\n",
    "         transforms.ToTensor(), \n",
    "                                 \n",
    "        # 이미지가 tensor형태로 전환된 이후에 정규화를 시행, 정규화를 위해서는 평균과 표준편차 필요\n",
    "        # Normalize()메서드 내의 첫 번째 대괄호는 각각 R,G,B채널 값에서 정규화를 적용할 평균값의미\n",
    "        # 두번째 대괄호는 각각 정규화를 적용할 표준편차 값 의미\n",
    "        # 평균과 표준편차값은 Pre_trained_Model의 학습에 사용된 ImageNet의 값을 가져옴..\n",
    "        # 입력데이터의 정규화는 모델을 최적화하고, LocalMinimum에 빠지는 것을 방지하는 데 도움이 됨\n",
    "        transforms.Normalize([0.485, 0.456, 0.406], [0.229, 0.224, 0.225]) ]),\n",
    "    \n",
    "    # 증강 제외하고 다 동일하게 가져옴.\n",
    "    'val': transforms.Compose([transforms.Resize([64,64]), transforms.ToTensor(),\n",
    "        transforms.Normalize([0.485, 0.456, 0.406], [0.229, 0.224, 0.225]) ])\n",
    "}"
   ]
  },
  {
   "cell_type": "code",
   "execution_count": 60,
   "id": "23c71ca5",
   "metadata": {},
   "outputs": [],
   "source": [
    "data_dir = './splitted2' \n",
    "\n",
    "# ImageFolder메서드는 데이터셋을 불러오는 메서드 위에서 학습함.\n",
    "# 딕셔너리 형태로 저장\n",
    "image_datasets = {x: ImageFolder(root=os.path.join(data_dir, x), transform=data_transforms[x]) for x in ['train', 'val']} \n",
    "\n",
    "# DataLoader메서드는 불러온 이미지 데이터를 주어진조건에 따라 미니배치 단위로 분리\n",
    "dataloaders = {x: torch.utils.data.DataLoader(image_datasets[x], batch_size=BATCH_SIZE, shuffle=True, num_workers=4) for x in ['train', 'val']} \n",
    "dataset_sizes = {x: len(image_datasets[x]) for x in ['train', 'val']}\n",
    "\n",
    "# 클래스 이름 미리 저장\n",
    "class_names = image_datasets['train'].classes"
   ]
  },
  {
   "cell_type": "code",
   "execution_count": 61,
   "id": "ffc83b81",
   "metadata": {},
   "outputs": [
    {
     "name": "stdout",
     "output_type": "stream",
     "text": [
      "ResNet(\n",
      "  (conv1): Conv2d(3, 64, kernel_size=(7, 7), stride=(2, 2), padding=(3, 3), bias=False)\n",
      "  (bn1): BatchNorm2d(64, eps=1e-05, momentum=0.1, affine=True, track_running_stats=True)\n",
      "  (relu): ReLU(inplace=True)\n",
      "  (maxpool): MaxPool2d(kernel_size=3, stride=2, padding=1, dilation=1, ceil_mode=False)\n",
      "  (layer1): Sequential(\n",
      "    (0): Bottleneck(\n",
      "      (conv1): Conv2d(64, 64, kernel_size=(1, 1), stride=(1, 1), bias=False)\n",
      "      (bn1): BatchNorm2d(64, eps=1e-05, momentum=0.1, affine=True, track_running_stats=True)\n",
      "      (conv2): Conv2d(64, 64, kernel_size=(3, 3), stride=(1, 1), padding=(1, 1), bias=False)\n",
      "      (bn2): BatchNorm2d(64, eps=1e-05, momentum=0.1, affine=True, track_running_stats=True)\n",
      "      (conv3): Conv2d(64, 256, kernel_size=(1, 1), stride=(1, 1), bias=False)\n",
      "      (bn3): BatchNorm2d(256, eps=1e-05, momentum=0.1, affine=True, track_running_stats=True)\n",
      "      (relu): ReLU(inplace=True)\n",
      "      (downsample): Sequential(\n",
      "        (0): Conv2d(64, 256, kernel_size=(1, 1), stride=(1, 1), bias=False)\n",
      "        (1): BatchNorm2d(256, eps=1e-05, momentum=0.1, affine=True, track_running_stats=True)\n",
      "      )\n",
      "    )\n",
      "    (1): Bottleneck(\n",
      "      (conv1): Conv2d(256, 64, kernel_size=(1, 1), stride=(1, 1), bias=False)\n",
      "      (bn1): BatchNorm2d(64, eps=1e-05, momentum=0.1, affine=True, track_running_stats=True)\n",
      "      (conv2): Conv2d(64, 64, kernel_size=(3, 3), stride=(1, 1), padding=(1, 1), bias=False)\n",
      "      (bn2): BatchNorm2d(64, eps=1e-05, momentum=0.1, affine=True, track_running_stats=True)\n",
      "      (conv3): Conv2d(64, 256, kernel_size=(1, 1), stride=(1, 1), bias=False)\n",
      "      (bn3): BatchNorm2d(256, eps=1e-05, momentum=0.1, affine=True, track_running_stats=True)\n",
      "      (relu): ReLU(inplace=True)\n",
      "    )\n",
      "    (2): Bottleneck(\n",
      "      (conv1): Conv2d(256, 64, kernel_size=(1, 1), stride=(1, 1), bias=False)\n",
      "      (bn1): BatchNorm2d(64, eps=1e-05, momentum=0.1, affine=True, track_running_stats=True)\n",
      "      (conv2): Conv2d(64, 64, kernel_size=(3, 3), stride=(1, 1), padding=(1, 1), bias=False)\n",
      "      (bn2): BatchNorm2d(64, eps=1e-05, momentum=0.1, affine=True, track_running_stats=True)\n",
      "      (conv3): Conv2d(64, 256, kernel_size=(1, 1), stride=(1, 1), bias=False)\n",
      "      (bn3): BatchNorm2d(256, eps=1e-05, momentum=0.1, affine=True, track_running_stats=True)\n",
      "      (relu): ReLU(inplace=True)\n",
      "    )\n",
      "  )\n",
      "  (layer2): Sequential(\n",
      "    (0): Bottleneck(\n",
      "      (conv1): Conv2d(256, 128, kernel_size=(1, 1), stride=(1, 1), bias=False)\n",
      "      (bn1): BatchNorm2d(128, eps=1e-05, momentum=0.1, affine=True, track_running_stats=True)\n",
      "      (conv2): Conv2d(128, 128, kernel_size=(3, 3), stride=(2, 2), padding=(1, 1), bias=False)\n",
      "      (bn2): BatchNorm2d(128, eps=1e-05, momentum=0.1, affine=True, track_running_stats=True)\n",
      "      (conv3): Conv2d(128, 512, kernel_size=(1, 1), stride=(1, 1), bias=False)\n",
      "      (bn3): BatchNorm2d(512, eps=1e-05, momentum=0.1, affine=True, track_running_stats=True)\n",
      "      (relu): ReLU(inplace=True)\n",
      "      (downsample): Sequential(\n",
      "        (0): Conv2d(256, 512, kernel_size=(1, 1), stride=(2, 2), bias=False)\n",
      "        (1): BatchNorm2d(512, eps=1e-05, momentum=0.1, affine=True, track_running_stats=True)\n",
      "      )\n",
      "    )\n",
      "    (1): Bottleneck(\n",
      "      (conv1): Conv2d(512, 128, kernel_size=(1, 1), stride=(1, 1), bias=False)\n",
      "      (bn1): BatchNorm2d(128, eps=1e-05, momentum=0.1, affine=True, track_running_stats=True)\n",
      "      (conv2): Conv2d(128, 128, kernel_size=(3, 3), stride=(1, 1), padding=(1, 1), bias=False)\n",
      "      (bn2): BatchNorm2d(128, eps=1e-05, momentum=0.1, affine=True, track_running_stats=True)\n",
      "      (conv3): Conv2d(128, 512, kernel_size=(1, 1), stride=(1, 1), bias=False)\n",
      "      (bn3): BatchNorm2d(512, eps=1e-05, momentum=0.1, affine=True, track_running_stats=True)\n",
      "      (relu): ReLU(inplace=True)\n",
      "    )\n",
      "    (2): Bottleneck(\n",
      "      (conv1): Conv2d(512, 128, kernel_size=(1, 1), stride=(1, 1), bias=False)\n",
      "      (bn1): BatchNorm2d(128, eps=1e-05, momentum=0.1, affine=True, track_running_stats=True)\n",
      "      (conv2): Conv2d(128, 128, kernel_size=(3, 3), stride=(1, 1), padding=(1, 1), bias=False)\n",
      "      (bn2): BatchNorm2d(128, eps=1e-05, momentum=0.1, affine=True, track_running_stats=True)\n",
      "      (conv3): Conv2d(128, 512, kernel_size=(1, 1), stride=(1, 1), bias=False)\n",
      "      (bn3): BatchNorm2d(512, eps=1e-05, momentum=0.1, affine=True, track_running_stats=True)\n",
      "      (relu): ReLU(inplace=True)\n",
      "    )\n",
      "    (3): Bottleneck(\n",
      "      (conv1): Conv2d(512, 128, kernel_size=(1, 1), stride=(1, 1), bias=False)\n",
      "      (bn1): BatchNorm2d(128, eps=1e-05, momentum=0.1, affine=True, track_running_stats=True)\n",
      "      (conv2): Conv2d(128, 128, kernel_size=(3, 3), stride=(1, 1), padding=(1, 1), bias=False)\n",
      "      (bn2): BatchNorm2d(128, eps=1e-05, momentum=0.1, affine=True, track_running_stats=True)\n",
      "      (conv3): Conv2d(128, 512, kernel_size=(1, 1), stride=(1, 1), bias=False)\n",
      "      (bn3): BatchNorm2d(512, eps=1e-05, momentum=0.1, affine=True, track_running_stats=True)\n",
      "      (relu): ReLU(inplace=True)\n",
      "    )\n",
      "  )\n",
      "  (layer3): Sequential(\n",
      "    (0): Bottleneck(\n",
      "      (conv1): Conv2d(512, 256, kernel_size=(1, 1), stride=(1, 1), bias=False)\n",
      "      (bn1): BatchNorm2d(256, eps=1e-05, momentum=0.1, affine=True, track_running_stats=True)\n",
      "      (conv2): Conv2d(256, 256, kernel_size=(3, 3), stride=(2, 2), padding=(1, 1), bias=False)\n",
      "      (bn2): BatchNorm2d(256, eps=1e-05, momentum=0.1, affine=True, track_running_stats=True)\n",
      "      (conv3): Conv2d(256, 1024, kernel_size=(1, 1), stride=(1, 1), bias=False)\n",
      "      (bn3): BatchNorm2d(1024, eps=1e-05, momentum=0.1, affine=True, track_running_stats=True)\n",
      "      (relu): ReLU(inplace=True)\n",
      "      (downsample): Sequential(\n",
      "        (0): Conv2d(512, 1024, kernel_size=(1, 1), stride=(2, 2), bias=False)\n",
      "        (1): BatchNorm2d(1024, eps=1e-05, momentum=0.1, affine=True, track_running_stats=True)\n",
      "      )\n",
      "    )\n",
      "    (1): Bottleneck(\n",
      "      (conv1): Conv2d(1024, 256, kernel_size=(1, 1), stride=(1, 1), bias=False)\n",
      "      (bn1): BatchNorm2d(256, eps=1e-05, momentum=0.1, affine=True, track_running_stats=True)\n",
      "      (conv2): Conv2d(256, 256, kernel_size=(3, 3), stride=(1, 1), padding=(1, 1), bias=False)\n",
      "      (bn2): BatchNorm2d(256, eps=1e-05, momentum=0.1, affine=True, track_running_stats=True)\n",
      "      (conv3): Conv2d(256, 1024, kernel_size=(1, 1), stride=(1, 1), bias=False)\n",
      "      (bn3): BatchNorm2d(1024, eps=1e-05, momentum=0.1, affine=True, track_running_stats=True)\n",
      "      (relu): ReLU(inplace=True)\n",
      "    )\n",
      "    (2): Bottleneck(\n",
      "      (conv1): Conv2d(1024, 256, kernel_size=(1, 1), stride=(1, 1), bias=False)\n",
      "      (bn1): BatchNorm2d(256, eps=1e-05, momentum=0.1, affine=True, track_running_stats=True)\n",
      "      (conv2): Conv2d(256, 256, kernel_size=(3, 3), stride=(1, 1), padding=(1, 1), bias=False)\n",
      "      (bn2): BatchNorm2d(256, eps=1e-05, momentum=0.1, affine=True, track_running_stats=True)\n",
      "      (conv3): Conv2d(256, 1024, kernel_size=(1, 1), stride=(1, 1), bias=False)\n",
      "      (bn3): BatchNorm2d(1024, eps=1e-05, momentum=0.1, affine=True, track_running_stats=True)\n",
      "      (relu): ReLU(inplace=True)\n",
      "    )\n",
      "    (3): Bottleneck(\n",
      "      (conv1): Conv2d(1024, 256, kernel_size=(1, 1), stride=(1, 1), bias=False)\n",
      "      (bn1): BatchNorm2d(256, eps=1e-05, momentum=0.1, affine=True, track_running_stats=True)\n",
      "      (conv2): Conv2d(256, 256, kernel_size=(3, 3), stride=(1, 1), padding=(1, 1), bias=False)\n",
      "      (bn2): BatchNorm2d(256, eps=1e-05, momentum=0.1, affine=True, track_running_stats=True)\n",
      "      (conv3): Conv2d(256, 1024, kernel_size=(1, 1), stride=(1, 1), bias=False)\n",
      "      (bn3): BatchNorm2d(1024, eps=1e-05, momentum=0.1, affine=True, track_running_stats=True)\n",
      "      (relu): ReLU(inplace=True)\n",
      "    )\n",
      "    (4): Bottleneck(\n",
      "      (conv1): Conv2d(1024, 256, kernel_size=(1, 1), stride=(1, 1), bias=False)\n",
      "      (bn1): BatchNorm2d(256, eps=1e-05, momentum=0.1, affine=True, track_running_stats=True)\n",
      "      (conv2): Conv2d(256, 256, kernel_size=(3, 3), stride=(1, 1), padding=(1, 1), bias=False)\n",
      "      (bn2): BatchNorm2d(256, eps=1e-05, momentum=0.1, affine=True, track_running_stats=True)\n",
      "      (conv3): Conv2d(256, 1024, kernel_size=(1, 1), stride=(1, 1), bias=False)\n",
      "      (bn3): BatchNorm2d(1024, eps=1e-05, momentum=0.1, affine=True, track_running_stats=True)\n",
      "      (relu): ReLU(inplace=True)\n",
      "    )\n",
      "    (5): Bottleneck(\n",
      "      (conv1): Conv2d(1024, 256, kernel_size=(1, 1), stride=(1, 1), bias=False)\n",
      "      (bn1): BatchNorm2d(256, eps=1e-05, momentum=0.1, affine=True, track_running_stats=True)\n",
      "      (conv2): Conv2d(256, 256, kernel_size=(3, 3), stride=(1, 1), padding=(1, 1), bias=False)\n",
      "      (bn2): BatchNorm2d(256, eps=1e-05, momentum=0.1, affine=True, track_running_stats=True)\n",
      "      (conv3): Conv2d(256, 1024, kernel_size=(1, 1), stride=(1, 1), bias=False)\n",
      "      (bn3): BatchNorm2d(1024, eps=1e-05, momentum=0.1, affine=True, track_running_stats=True)\n",
      "      (relu): ReLU(inplace=True)\n",
      "    )\n",
      "  )\n",
      "  (layer4): Sequential(\n",
      "    (0): Bottleneck(\n",
      "      (conv1): Conv2d(1024, 512, kernel_size=(1, 1), stride=(1, 1), bias=False)\n",
      "      (bn1): BatchNorm2d(512, eps=1e-05, momentum=0.1, affine=True, track_running_stats=True)\n",
      "      (conv2): Conv2d(512, 512, kernel_size=(3, 3), stride=(2, 2), padding=(1, 1), bias=False)\n",
      "      (bn2): BatchNorm2d(512, eps=1e-05, momentum=0.1, affine=True, track_running_stats=True)\n",
      "      (conv3): Conv2d(512, 2048, kernel_size=(1, 1), stride=(1, 1), bias=False)\n",
      "      (bn3): BatchNorm2d(2048, eps=1e-05, momentum=0.1, affine=True, track_running_stats=True)\n",
      "      (relu): ReLU(inplace=True)\n",
      "      (downsample): Sequential(\n",
      "        (0): Conv2d(1024, 2048, kernel_size=(1, 1), stride=(2, 2), bias=False)\n",
      "        (1): BatchNorm2d(2048, eps=1e-05, momentum=0.1, affine=True, track_running_stats=True)\n",
      "      )\n",
      "    )\n",
      "    (1): Bottleneck(\n",
      "      (conv1): Conv2d(2048, 512, kernel_size=(1, 1), stride=(1, 1), bias=False)\n",
      "      (bn1): BatchNorm2d(512, eps=1e-05, momentum=0.1, affine=True, track_running_stats=True)\n",
      "      (conv2): Conv2d(512, 512, kernel_size=(3, 3), stride=(1, 1), padding=(1, 1), bias=False)\n",
      "      (bn2): BatchNorm2d(512, eps=1e-05, momentum=0.1, affine=True, track_running_stats=True)\n",
      "      (conv3): Conv2d(512, 2048, kernel_size=(1, 1), stride=(1, 1), bias=False)\n",
      "      (bn3): BatchNorm2d(2048, eps=1e-05, momentum=0.1, affine=True, track_running_stats=True)\n",
      "      (relu): ReLU(inplace=True)\n",
      "    )\n",
      "    (2): Bottleneck(\n",
      "      (conv1): Conv2d(2048, 512, kernel_size=(1, 1), stride=(1, 1), bias=False)\n",
      "      (bn1): BatchNorm2d(512, eps=1e-05, momentum=0.1, affine=True, track_running_stats=True)\n",
      "      (conv2): Conv2d(512, 512, kernel_size=(3, 3), stride=(1, 1), padding=(1, 1), bias=False)\n",
      "      (bn2): BatchNorm2d(512, eps=1e-05, momentum=0.1, affine=True, track_running_stats=True)\n",
      "      (conv3): Conv2d(512, 2048, kernel_size=(1, 1), stride=(1, 1), bias=False)\n",
      "      (bn3): BatchNorm2d(2048, eps=1e-05, momentum=0.1, affine=True, track_running_stats=True)\n",
      "      (relu): ReLU(inplace=True)\n",
      "    )\n",
      "  )\n",
      "  (avgpool): AdaptiveAvgPool2d(output_size=(1, 1))\n",
      "  (fc): Linear(in_features=2048, out_features=1000, bias=True)\n",
      ")\n"
     ]
    }
   ],
   "source": [
    "# 사전 학습 모델 불러오기\n",
    "from torchvision import models\n",
    "\n",
    "# pretrained = True로 하면 학습된 파라미터 값을 그대로 가져오고 False로 하면 모델의 구조만 가져오고 파라미터 랜덤.\n",
    "resnet = models.resnet50(pretrained=True)  \n",
    "\n",
    "resnet.eval()\n",
    "print(resnet)"
   ]
  },
  {
   "cell_type": "code",
   "execution_count": 62,
   "id": "41b5e869",
   "metadata": {},
   "outputs": [],
   "source": [
    "# 사전 학습 모델 불러오기\n",
    "from torchvision import models\n",
    "\n",
    "# pretrained = True로 하면 학습된 파라미터 값을 그대로 가져오고 False로 하면 모델의 구조만 가져오고 파라미터 랜덤.\n",
    "resnet = models.resnet50(pretrained=True)  \n",
    "### 모델의 마지막 fully connected layer 대신 출력 채널의 수가 33개인 새로운 layer추가를 위해 마지막 레이어의 입력 채널 수 저장\n",
    "# in_fatures는 해당 layer의 입력 채널 수 의미\n",
    "num_ftrs = resnet.fc.in_features   \n",
    "# 마지막 레이어 fc를 새로운 레이어로 교체\n",
    "resnet.fc = nn.Linear(num_ftrs, 33) \n",
    "# 장비에 할당\n",
    "resnet = resnet.to(DEVICE)\n",
    " \n",
    "# 모델 학습시 사용하는 loss함수 저장\n",
    "criterion = nn.CrossEntropyLoss() \n",
    "# 일부 레이어만 파라미터를 업데이트해야 하므로 filter()메서드와 lambda표현식을 사용하여 requires_grad = True로 설정된 Layer의 파라미터만 변경\n",
    "optimizer_ft = optim.Adam(filter(lambda p: p.requires_grad, resnet.parameters()), lr=0.001)\n",
    "\n",
    "# StepLR메서드를 이용하여 에포크에 따라 learninglate를 변경함. \n",
    "# step_size = 7, gamma = 0.1로 설정하면 7epoch마다 0.1씩 곱해 learningrate를 감소시킨다는 의미\n",
    "from torch.optim import lr_scheduler\n",
    "exp_lr_scheduler = lr_scheduler.StepLR(optimizer_ft, step_size=7, gamma=0.1) "
   ]
  },
  {
   "cell_type": "code",
   "execution_count": 63,
   "id": "9ea0ad31",
   "metadata": {},
   "outputs": [],
   "source": [
    "# 해당 레이어가 몇번 째 레이어인지 나타내는 변수 ct\n",
    "\n",
    "ct = 0\n",
    "# 모델의 자식 모듈을 반복 가능한 객체로 반환하는 메서드.\n",
    "# resnet.children()은 생성한 resnet모델의 모든 layer정보를 담고 있음\n",
    "# 1~10까지의 레이어 (ResNet50에 존재하는) 중 상위레이어 6개를 파라미터 업데이트 하지않도록 해줌.\n",
    "for child in resnet.children():  \n",
    "    ct += 1  \n",
    "    if ct < 6: \n",
    "        # 각 레이어의 파라미터 텐서를 의미, 각텐서에는 requires_grad옵션이 있으며 기본값은 True\n",
    "        for param in child.parameters():\n",
    "            param.requires_grad = False"
   ]
  },
  {
   "cell_type": "code",
   "execution_count": 64,
   "id": "2cd90c9e",
   "metadata": {},
   "outputs": [],
   "source": [
    "\n",
    "def train_resnet(model, criterion, optimizer, scheduler, num_epochs=25):\n",
    "\n",
    "    best_model_wts = copy.deepcopy(model.state_dict())  \n",
    "    best_acc = 0.0  \n",
    "    \n",
    "    train_loss_list = []\n",
    "    train_accuracy_list = []\n",
    "    val_loss_list = []\n",
    "    val_accuracy_list = []\n",
    "    \n",
    "    for epoch in range(num_epochs):\n",
    "        print('-------------- epoch {} ----------------'.format(epoch+1)) \n",
    "        since = time.time()                                     \n",
    "        for phase in ['train', 'val']: \n",
    "            if phase == 'train': \n",
    "                model.train() \n",
    "            else:\n",
    "                model.eval()     \n",
    " \n",
    "            running_loss = 0.0  \n",
    "            running_corrects = 0  \n",
    " \n",
    "            \n",
    "            for inputs, labels in dataloaders[phase]: \n",
    "                inputs = inputs.to(DEVICE)  \n",
    "                labels = labels.to(DEVICE)  \n",
    "                \n",
    "                optimizer.zero_grad() \n",
    "                \n",
    "                # set_grad_enabled(phase == 'train')을 이용하여 train일 경우에만 업데이트 하도록 함.\n",
    "                with torch.set_grad_enabled(phase == 'train'):  \n",
    "                    outputs = model(inputs)  \n",
    "                    _, preds = torch.max(outputs, 1) \n",
    "                    loss = criterion(outputs, labels)  \n",
    "                    \n",
    "                    # train인 경우엔 가중치 업데이트\n",
    "                    if phase == 'train':   \n",
    "                        loss.backward()\n",
    "                        optimizer.step()\n",
    "\n",
    "                # 모든 데이터 Loss를 합산해서 저장하고자 \n",
    "                # 하나의 미니배치에 대해 계산된 Loss값에 데이터의 수를 곱해 합산\n",
    "                # input.size(0)은 Dataloader에서 전달되는 미니 배치의 데이터 수를 의미하는 것 = 배치 사이즈\n",
    "                running_loss += loss.item() * inputs.size(0)  \n",
    "                \n",
    "                # 맞으면 개수 1개 추가\n",
    "                running_corrects += torch.sum(preds == labels.data)  \n",
    "            \n",
    "            # 스케쥴러를 트레인일때만 가동\n",
    "            if phase == 'train':  \n",
    "                scheduler.step()\n",
    "                \n",
    "                # optimizer_ft.param_groups의 원소는 학습 과정에서의 파라미터를 저장하고 있는 딕셔너리\n",
    "                # 이중 학습률에 해당하는 key인 'lr'을 이용하여 각 에포크의 러닝 레이트를 가져옴\n",
    "                l_r = [x['lr'] for x in optimizer_ft.param_groups]\n",
    "                print('learning rate: ', l_r)\n",
    " \n",
    "            # 해당 에포크의 loss와 acc계산을 위해 미리 계산한 데이터셋 사이즈로 나눔.\n",
    "            epoch_loss = running_loss/dataset_sizes[phase]  \n",
    "            epoch_acc = running_corrects.double()/dataset_sizes[phase]  \n",
    "            \n",
    "            if phase == 'train':\n",
    "                train_loss_list.append(epoch_loss)\n",
    "                train_accuracy_list.append(epoch_acc.to(torch.device(\"cpu\")))\n",
    "            elif phase == 'val': \n",
    "                val_loss_list.append(epoch_loss)\n",
    "                val_accuracy_list.append(epoch_acc.to(torch.device(\"cpu\")))\n",
    "            \n",
    " \n",
    "            print('{} Loss: {:.4f} Acc: {:.4f}'.format(phase, epoch_loss, epoch_acc)) \n",
    " \n",
    "            # 검증 단계에서 현재 Epoch의 정확도가 최고 정확도보다 높다면 best_acc를 현재 epoch의 정확도로 업데이트\n",
    "            if phase == 'val' and epoch_acc > best_acc: \n",
    "                best_acc = epoch_acc\n",
    "                best_model_wts = copy.deepcopy(model.state_dict())\n",
    " \n",
    "        time_elapsed = time.time() - since  \n",
    "        print('Completed in {:.0f}m {:.0f}s'.format(time_elapsed // 60, time_elapsed % 60))\n",
    "    print('Best val Acc: {:4f}'.format(best_acc))\n",
    "    \n",
    "    # 모델 로드 후 리턴\n",
    "    model.load_state_dict(best_model_wts) \n",
    "\n",
    "    return model, train_loss_list, train_accuracy_list, val_loss_list, val_accuracy_list"
   ]
  },
  {
   "cell_type": "code",
   "execution_count": 65,
   "id": "4bb669ad",
   "metadata": {},
   "outputs": [
    {
     "name": "stdout",
     "output_type": "stream",
     "text": [
      "-------------- epoch 1 ----------------\n",
      "learning rate:  [0.001]\n",
      "train Loss: 1.7771 Acc: 0.3650\n",
      "val Loss: 6.4232 Acc: 0.1895\n",
      "Completed in 0m 6s\n",
      "-------------- epoch 2 ----------------\n",
      "learning rate:  [0.001]\n",
      "train Loss: 1.2822 Acc: 0.4752\n",
      "val Loss: 2.1886 Acc: 0.2157\n",
      "Completed in 0m 6s\n",
      "-------------- epoch 3 ----------------\n",
      "learning rate:  [0.001]\n",
      "train Loss: 1.1345 Acc: 0.5486\n",
      "val Loss: 2.5791 Acc: 0.3464\n",
      "Completed in 0m 6s\n",
      "-------------- epoch 4 ----------------\n",
      "learning rate:  [0.001]\n",
      "train Loss: 1.0538 Acc: 0.6069\n",
      "val Loss: 1.8914 Acc: 0.2157\n",
      "Completed in 0m 6s\n",
      "-------------- epoch 5 ----------------\n",
      "learning rate:  [0.001]\n",
      "train Loss: 0.9431 Acc: 0.6307\n",
      "val Loss: 2.7789 Acc: 0.3333\n",
      "Completed in 0m 6s\n",
      "-------------- epoch 6 ----------------\n",
      "learning rate:  [0.001]\n",
      "train Loss: 0.8469 Acc: 0.6760\n",
      "val Loss: 2.0854 Acc: 0.3595\n",
      "Completed in 0m 7s\n",
      "-------------- epoch 7 ----------------\n",
      "learning rate:  [0.0001]\n",
      "train Loss: 0.7489 Acc: 0.7192\n",
      "val Loss: 2.4807 Acc: 0.3464\n",
      "Completed in 0m 6s\n",
      "-------------- epoch 8 ----------------\n",
      "learning rate:  [0.0001]\n",
      "train Loss: 0.5210 Acc: 0.8186\n",
      "val Loss: 2.3051 Acc: 0.3137\n",
      "Completed in 0m 6s\n",
      "-------------- epoch 9 ----------------\n",
      "learning rate:  [0.0001]\n",
      "train Loss: 0.4360 Acc: 0.8575\n",
      "val Loss: 2.4466 Acc: 0.3464\n",
      "Completed in 0m 6s\n",
      "-------------- epoch 10 ----------------\n",
      "learning rate:  [0.0001]\n",
      "train Loss: 0.3319 Acc: 0.8726\n",
      "val Loss: 2.4571 Acc: 0.3791\n",
      "Completed in 0m 7s\n",
      "Best val Acc: 0.379085\n"
     ]
    }
   ],
   "source": [
    "model_resnet50, train_loss_list, train_accuracy_list, val_loss_list, val_accuracy_list = train_resnet(resnet, criterion, optimizer_ft, exp_lr_scheduler, num_epochs=EPOCH) \n",
    "\n",
    "# 학습 완료 모델 저장\n",
    "torch.save(model_resnet50, 'resnet50.pt')"
   ]
  },
  {
   "cell_type": "markdown",
   "id": "293b6b37",
   "metadata": {},
   "source": [
    "### 토치에서 그래프 그리기"
   ]
  },
  {
   "cell_type": "code",
   "execution_count": 73,
   "id": "0b959ca6",
   "metadata": {},
   "outputs": [],
   "source": [
    "for cnt, (tl, ta, vl, va) in enumerate(zip(train_loss_list, train_accuracy_list, val_loss_list, val_accuracy_list)):\n",
    "    train_accuracy_list[cnt] = ta.cpu()\n",
    "    val_accuracy_list[cnt] = va.cpu()"
   ]
  },
  {
   "cell_type": "code",
   "execution_count": 74,
   "id": "36315ea2",
   "metadata": {},
   "outputs": [
    {
     "data": {
      "text/plain": [
       "([1.777091284292563,\n",
       "  1.282239049351241,\n",
       "  1.1344636799707268,\n",
       "  1.0537759856065458,\n",
       "  0.9431491660247868,\n",
       "  0.8468895137438763,\n",
       "  0.7489030603198716,\n",
       "  0.5209526084283,\n",
       "  0.4359613561250479,\n",
       "  0.3318537880483508],\n",
       " [tensor(0.3650, dtype=torch.float64),\n",
       "  tensor(0.4752, dtype=torch.float64),\n",
       "  tensor(0.5486, dtype=torch.float64),\n",
       "  tensor(0.6069, dtype=torch.float64),\n",
       "  tensor(0.6307, dtype=torch.float64),\n",
       "  tensor(0.6760, dtype=torch.float64),\n",
       "  tensor(0.7192, dtype=torch.float64),\n",
       "  tensor(0.8186, dtype=torch.float64),\n",
       "  tensor(0.8575, dtype=torch.float64),\n",
       "  tensor(0.8726, dtype=torch.float64)],\n",
       " [6.423187181061389,\n",
       "  2.1886072439305924,\n",
       "  2.5790654654596366,\n",
       "  1.8914137447581572,\n",
       "  2.7789421034794226,\n",
       "  2.0853809281891467,\n",
       "  2.480725984947354,\n",
       "  2.3051490269455255,\n",
       "  2.446586234896791,\n",
       "  2.4571466212179147],\n",
       " [tensor(0.1895, dtype=torch.float64),\n",
       "  tensor(0.2157, dtype=torch.float64),\n",
       "  tensor(0.3464, dtype=torch.float64),\n",
       "  tensor(0.2157, dtype=torch.float64),\n",
       "  tensor(0.3333, dtype=torch.float64),\n",
       "  tensor(0.3595, dtype=torch.float64),\n",
       "  tensor(0.3464, dtype=torch.float64),\n",
       "  tensor(0.3137, dtype=torch.float64),\n",
       "  tensor(0.3464, dtype=torch.float64),\n",
       "  tensor(0.3791, dtype=torch.float64)])"
      ]
     },
     "execution_count": 74,
     "metadata": {},
     "output_type": "execute_result"
    }
   ],
   "source": [
    "train_loss_list, train_accuracy_list, val_loss_list, val_accuracy_list"
   ]
  },
  {
   "cell_type": "code",
   "execution_count": 75,
   "id": "da4d54e7",
   "metadata": {},
   "outputs": [
    {
     "data": {
      "image/png": "[encoded data removed]",
      "text/plain": [
       "<Figure size 864x576 with 1 Axes>"
      ]
     },
     "metadata": {
      "needs_background": "light"
     },
     "output_type": "display_data"
    }
   ],
   "source": [
    "import matplotlib.pyplot as plt\n",
    "\n",
    "\n",
    "plt.figure(figsize=(12,8))\n",
    "plt.plot(train_loss_list,'--',c='red')\n",
    "plt.plot(val_loss_list,'--',c='blue')\n",
    "plt.plot(train_accuracy_list,'-',c='red')\n",
    "plt.plot(val_accuracy_list,'-',c='blue')\n",
    "plt.legend(['train_loss','train_accuracy', 'val_loss','val_accuracy'])\n",
    "plt.show()\n"
   ]
  },
  {
   "cell_type": "code",
   "execution_count": 76,
   "id": "1d5693ea",
   "metadata": {},
   "outputs": [],
   "source": [
    "# 평가에 사용될 데이터를 확습에 사용된 데이터와 같은 방식으로 전처리\n",
    "# 먼저 베이스라인\n",
    "transform_base = transforms.Compose([transforms.Resize([64,64]),transforms.ToTensor()])\n",
    "test_base = ImageFolder(root='./splitted2/test',transform=transform_base)  \n",
    "test_loader_base = torch.utils.data.DataLoader(test_base, batch_size=BATCH_SIZE, shuffle=True, num_workers=4)"
   ]
  },
  {
   "cell_type": "code",
   "execution_count": 77,
   "id": "d438ff93",
   "metadata": {},
   "outputs": [],
   "source": [
    "# 전이학습에 필요한 전처리\n",
    "transform_resNet = transforms.Compose([\n",
    "        transforms.Resize([64,64]),  \n",
    "        transforms.RandomCrop(52),  \n",
    "        transforms.ToTensor(),\n",
    "        transforms.Normalize([0.485, 0.456, 0.406], [0.229, 0.224, 0.225]) \n",
    "    ])\n",
    "    \n",
    "test_resNet = ImageFolder(root='./splitted2/test', transform=transform_resNet) \n",
    "test_loader_resNet = torch.utils.data.DataLoader(test_resNet, batch_size=BATCH_SIZE, shuffle=True, num_workers=4)"
   ]
  },
  {
   "cell_type": "code",
   "execution_count": 78,
   "id": "fb0a1902",
   "metadata": {},
   "outputs": [
    {
     "name": "stdout",
     "output_type": "stream",
     "text": [
      "baseline test acc:   32.6797385620915\n"
     ]
    }
   ],
   "source": [
    "#베이스라인 모델 성능 평가하기\n",
    "baseline=torch.load('baseline.pt')\n",
    "\n",
    "# baseline.to(torch.device(\"cpu\"))\n",
    "# 모델을 평가모드로 전환\n",
    "baseline.eval()  \n",
    "\n",
    "# evaluate()함수를 이용하여 테스트 데이터에 대한 정확도 측정\n",
    "test_loss, test_accuracy = evaluate(baseline, test_loader_base)\n",
    "\n",
    "print('baseline test acc:  ', test_accuracy)"
   ]
  },
  {
   "cell_type": "code",
   "execution_count": 79,
   "id": "ec9fcdd1",
   "metadata": {},
   "outputs": [
    {
     "name": "stdout",
     "output_type": "stream",
     "text": [
      "ResNet test acc:   14.379084967320262\n"
     ]
    }
   ],
   "source": [
    "#Transfer Learning 모델 성능 평가하기\n",
    "resnet50=torch.load('resnet50.pt') \n",
    "\n",
    "# 모델을 평가모드로 전환\n",
    "resnet50.eval()  \n",
    "\n",
    "# evaluate()함수를 이용하여 테스트 데이터에 대한 정확도 측정\n",
    "test_loss, test_accuracy = evaluate(resnet50, test_loader_resNet)\n",
    "\n",
    "print('ResNet test acc:  ', test_accuracy)"
   ]
  },
  {
   "cell_type": "markdown",
   "id": "92e86637",
   "metadata": {},
   "source": [
    "## 새로운 이미지로 테스트(인터넷에서 다운 받은 이미지)"
   ]
  },
  {
   "cell_type": "code",
   "execution_count": 100,
   "id": "b087f600",
   "metadata": {},
   "outputs": [],
   "source": [
    "new_resNet = ImageFolder(root='./newImage', transform=transform_resNet) \n",
    "new_loader_resNet = torch.utils.data.DataLoader(new_resNet, batch_size=BATCH_SIZE, shuffle=True, num_workers=4)"
   ]
  },
  {
   "cell_type": "code",
   "execution_count": 102,
   "id": "a965e390",
   "metadata": {},
   "outputs": [
    {
     "data": {
      "text/plain": [
       "Dataset ImageFolder\n",
       "    Number of datapoints: 2\n",
       "    Root location: ./newImage\n",
       "    StandardTransform\n",
       "Transform: Compose(\n",
       "               Resize(size=[64, 64], interpolation=bilinear, max_size=None, antialias=None)\n",
       "               RandomCrop(size=(52, 52), padding=None)\n",
       "               ToTensor()\n",
       "               Normalize(mean=[0.485, 0.456, 0.406], std=[0.229, 0.224, 0.225])\n",
       "           )"
      ]
     },
     "execution_count": 102,
     "metadata": {},
     "output_type": "execute_result"
    }
   ],
   "source": [
    "new_resNet"
   ]
  },
  {
   "cell_type": "code",
   "execution_count": 104,
   "id": "5024dc67",
   "metadata": {},
   "outputs": [
    {
     "name": "stdout",
     "output_type": "stream",
     "text": [
      "ResNet new acc:   50.0\n"
     ]
    }
   ],
   "source": [
    "#Transfer Learning 모델 성능 평가하기\n",
    "resnet50=torch.load('resnet50.pt') \n",
    "\n",
    "# 모델을 평가모드로 전환\n",
    "resnet50.eval()  \n",
    "\n",
    "# evaluate()함수를 이용하여 테스트 데이터에 대한 정확도 측정\n",
    "new_loss, new_accuracy = evaluate(resnet50, new_loader_resNet)\n",
    "\n",
    "print('ResNet new acc:  ', new_accuracy)"
   ]
  },
  {
   "cell_type": "code",
   "execution_count": null,
   "id": "dad1aa89",
   "metadata": {},
   "outputs": [],
   "source": []
  }
 ],
 "metadata": {
  "kernelspec": {
   "display_name": "Python 3 (ipykernel)",
   "language": "python",
   "name": "python3"
  },
  "language_info": {
   "codemirror_mode": {
    "name": "ipython",
    "version": 3
   },
   "file_extension": ".py",
   "mimetype": "text/x-python",
   "name": "python",
   "nbconvert_exporter": "python",
   "pygments_lexer": "ipython3",
   "version": "3.10.4"
  }
 },
 "nbformat": 4,
 "nbformat_minor": 5
}
