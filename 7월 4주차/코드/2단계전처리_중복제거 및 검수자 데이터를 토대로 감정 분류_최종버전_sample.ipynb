{
 "cells": [
  {
   "cell_type": "code",
   "execution_count": 43,
   "id": "6cc6d996",
   "metadata": {
    "pycharm": {
     "name": "#%%\n"
    }
   },
   "outputs": [],
   "source": [
    "import numpy as np\n",
    "import cv2\n",
    "import os\n",
    "import PIL\n",
    "from glob import glob\n",
    "from matplotlib import pyplot as plt\n",
    "from tqdm import tqdm\n",
    "\n",
    "######### 전체 이미지 데이터 경로 ############\n",
    "\n",
    "# path = '.\\\\emotion_cv2\\origin_data\\\\'\n",
    "path = r'C:\\Users\\HP\\Desktop\\datasets\\2020-02-092.한국인감정인식_sample\\emotion_cv2\\\\'\n",
    "##########################################################\n",
    "\n",
    "# folder_list = glob(path + '*')\n",
    "image_list = glob(path+'*.jpg')\n",
    "\n"
   ]
  },
  {
   "cell_type": "code",
   "execution_count": 44,
   "id": "d90c57c0",
   "metadata": {
    "pycharm": {
     "name": "#%%\n"
    }
   },
   "outputs": [
    {
     "data": {
      "text/plain": "1090"
     },
     "execution_count": 44,
     "metadata": {},
     "output_type": "execute_result"
    }
   ],
   "source": [
    "len(image_list)"
   ]
  },
  {
   "cell_type": "code",
   "execution_count": 45,
   "id": "e16152e2",
   "metadata": {
    "pycharm": {
     "name": "#%%\n"
    }
   },
   "outputs": [
    {
     "data": {
      "text/plain": "'2020-02-092.한국인감정인식_sample\\\\emotion_cv2\\\\064c9650db76c75f0d8cdc31898eb031aece3cd1e7825531d841730daefade73_여_20_기쁨_공공시설&종교&의료시설_20201206203554-001-008.jpg'"
     },
     "execution_count": 45,
     "metadata": {},
     "output_type": "execute_result"
    }
   ],
   "source": [
    "image_list[0][29:]"
   ]
  },
  {
   "cell_type": "code",
   "execution_count": 46,
   "id": "6d47dd5f",
   "metadata": {
    "pycharm": {
     "name": "#%%\n"
    }
   },
   "outputs": [
    {
     "data": {
      "text/plain": "'001-008.jpg'"
     },
     "execution_count": 46,
     "metadata": {},
     "output_type": "execute_result"
    }
   ],
   "source": [
    "image_list[0][-11:]"
   ]
  },
  {
   "cell_type": "code",
   "execution_count": 47,
   "id": "65ea9a1b",
   "metadata": {
    "pycharm": {
     "name": "#%%\n"
    }
   },
   "outputs": [
    {
     "data": {
      "text/plain": "['2020-02-092.한국인감정인식',\n 'sample\\\\emotion',\n 'cv2\\\\064c9650db76c75f0d8cdc31898eb031aece3cd1e7825531d841730daefade73',\n '여',\n '20',\n '기쁨',\n '공공시설&종교&의료시설',\n '20201206203554-001-008.jpg']"
     },
     "execution_count": 47,
     "metadata": {},
     "output_type": "execute_result"
    }
   ],
   "source": [
    "image_list[0][29:].split('_')"
   ]
  },
  {
   "cell_type": "code",
   "execution_count": 49,
   "id": "b4192343",
   "metadata": {
    "pycharm": {
     "name": "#%%\n"
    }
   },
   "outputs": [
    {
     "name": "stderr",
     "output_type": "stream",
     "text": [
      "100%|██████████| 1090/1090 [00:00<00:00, 1405.23it/s]\n"
     ]
    }
   ],
   "source": [
    "# 중복제거\n",
    "from PIL import Image\n",
    "\n",
    "for i in tqdm(image_list):\n",
    "    i_list = i.split('_')\n",
    "    cnt = 0\n",
    "    removed_images = []\n",
    "    for i2 in image_list:\n",
    "        i2_list = i2.split('_')\n",
    "        # 사진 파일이 같을 경우\n",
    "        if (i_list[2] == i2_list[2]) & (i_list[7][-11:] == i2_list[7][-11:]) :\n",
    "            cnt += 1\n",
    "            # 자기 자신이 아닐 경우\n",
    "            if cnt > 1 :\n",
    "                os.remove(i2)\n",
    "                removed_images.append(i2)\n",
    "    \n",
    "    for r in removed_images:\n",
    "        image_list.remove(r)"
   ]
  },
  {
   "cell_type": "code",
   "execution_count": null,
   "id": "0d1952f9",
   "metadata": {
    "pycharm": {
     "name": "#%%\n"
    }
   },
   "outputs": [],
   "source": []
  }
 ],
 "metadata": {
  "kernelspec": {
   "display_name": "Python 3 (ipykernel)",
   "language": "python",
   "name": "python3"
  },
  "language_info": {
   "codemirror_mode": {
    "name": "ipython",
    "version": 3
   },
   "file_extension": ".py",
   "mimetype": "text/x-python",
   "name": "python",
   "nbconvert_exporter": "python",
   "pygments_lexer": "ipython3",
   "version": "3.9.12"
  }
 },
 "nbformat": 4,
 "nbformat_minor": 5
}