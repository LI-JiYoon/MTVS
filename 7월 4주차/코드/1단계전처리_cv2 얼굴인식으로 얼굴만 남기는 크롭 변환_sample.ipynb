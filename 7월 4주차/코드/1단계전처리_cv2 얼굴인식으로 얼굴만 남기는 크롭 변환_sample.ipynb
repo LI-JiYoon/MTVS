{
 "cells": [
  {
   "cell_type": "code",
   "execution_count": 2,
   "id": "b1ec6724",
   "metadata": {
    "pycharm": {
     "name": "#%%\n"
    }
   },
   "outputs": [
    {
     "ename": "FileExistsError",
     "evalue": "[WinError 183] 파일이 이미 있으므로 만들 수 없습니다: 'C:\\\\Users\\\\HP\\\\Desktop\\\\datasets\\\\2020-02-092.한국인감정인식_sample\\\\원천데이터\\\\\\\\../emotion_cv2'",
     "output_type": "error",
     "traceback": [
      "\u001B[1;31m---------------------------------------------------------------------------\u001B[0m",
      "\u001B[1;31mFileExistsError\u001B[0m                           Traceback (most recent call last)",
      "\u001B[1;32m~\\AppData\\Local\\Temp\\ipykernel_24284\\2315490615.py\u001B[0m in \u001B[0;36m<module>\u001B[1;34m\u001B[0m\n\u001B[0;32m     18\u001B[0m \u001B[0mfolder\u001B[0m \u001B[1;33m=\u001B[0m \u001B[0mfolder_list\u001B[0m\u001B[1;33m[\u001B[0m\u001B[1;36m0\u001B[0m\u001B[1;33m]\u001B[0m\u001B[1;33m\u001B[0m\u001B[1;33m\u001B[0m\u001B[0m\n\u001B[0;32m     19\u001B[0m \u001B[0msavepath\u001B[0m \u001B[1;33m=\u001B[0m \u001B[0mpath\u001B[0m\u001B[1;33m+\u001B[0m\u001B[1;34m'../emotion_cv2'\u001B[0m\u001B[1;33m\u001B[0m\u001B[1;33m\u001B[0m\u001B[0m\n\u001B[1;32m---> 20\u001B[1;33m \u001B[0mos\u001B[0m\u001B[1;33m.\u001B[0m\u001B[0mmakedirs\u001B[0m\u001B[1;33m(\u001B[0m\u001B[0msavepath\u001B[0m\u001B[1;33m)\u001B[0m\u001B[1;33m\u001B[0m\u001B[1;33m\u001B[0m\u001B[0m\n\u001B[0m",
      "\u001B[1;32m~\\miniconda3\\envs\\gpu2.6\\lib\\os.py\u001B[0m in \u001B[0;36mmakedirs\u001B[1;34m(name, mode, exist_ok)\u001B[0m\n\u001B[0;32m    221\u001B[0m             \u001B[1;32mreturn\u001B[0m\u001B[1;33m\u001B[0m\u001B[1;33m\u001B[0m\u001B[0m\n\u001B[0;32m    222\u001B[0m     \u001B[1;32mtry\u001B[0m\u001B[1;33m:\u001B[0m\u001B[1;33m\u001B[0m\u001B[1;33m\u001B[0m\u001B[0m\n\u001B[1;32m--> 223\u001B[1;33m         \u001B[0mmkdir\u001B[0m\u001B[1;33m(\u001B[0m\u001B[0mname\u001B[0m\u001B[1;33m,\u001B[0m \u001B[0mmode\u001B[0m\u001B[1;33m)\u001B[0m\u001B[1;33m\u001B[0m\u001B[1;33m\u001B[0m\u001B[0m\n\u001B[0m\u001B[0;32m    224\u001B[0m     \u001B[1;32mexcept\u001B[0m \u001B[0mOSError\u001B[0m\u001B[1;33m:\u001B[0m\u001B[1;33m\u001B[0m\u001B[1;33m\u001B[0m\u001B[0m\n\u001B[0;32m    225\u001B[0m         \u001B[1;31m# Cannot rely on checking for EEXIST, since the operating system\u001B[0m\u001B[1;33m\u001B[0m\u001B[1;33m\u001B[0m\u001B[1;33m\u001B[0m\u001B[0m\n",
      "\u001B[1;31mFileExistsError\u001B[0m: [WinError 183] 파일이 이미 있으므로 만들 수 없습니다: 'C:\\\\Users\\\\HP\\\\Desktop\\\\datasets\\\\2020-02-092.한국인감정인식_sample\\\\원천데이터\\\\\\\\../emotion_cv2'"
     ]
    }
   ],
   "source": [
    "import numpy as np\n",
    "import cv2\n",
    "import os\n",
    "from glob import glob\n",
    "from matplotlib import pyplot as plt\n",
    "from tqdm import tqdm\n",
    "face_cascade = cv2.CascadeClassifier('./haarcascade_frontface.xml')\n",
    "# eye_cascade = cv2.CascadeClassifier('./data/haar/haarcascade_eye.xml')\n",
    "\n",
    "######  이부분 데이터 저장 경로 #############\n",
    "\n",
    "path = r'C:\\Users\\HP\\Desktop\\datasets\\2020-02-092.한국인감정인식_sample\\원천데이터\\\\'\n",
    "\n",
    "######  이부분 데이터 저장 경로 #############\n",
    "\n",
    "\n",
    "folder_list = glob(path + '*')\n",
    "folder = folder_list[0]\n",
    "savepath = path+'../emotion_cv2'\n",
    "os.makedirs(savepath)"
   ]
  },
  {
   "cell_type": "code",
   "execution_count": null,
   "outputs": [],
   "source": [
    "folder_list[0]"
   ],
   "metadata": {
    "collapsed": false,
    "pycharm": {
     "name": "#%%\n"
    }
   }
  },
  {
   "cell_type": "code",
   "execution_count": 3,
   "outputs": [
    {
     "data": {
      "text/plain": "['C:\\\\Users\\\\HP\\\\Desktop\\\\datasets\\\\2020-02-092.한국인감정인식_sample\\\\원천데이터\\\\기쁨',\n 'C:\\\\Users\\\\HP\\\\Desktop\\\\datasets\\\\2020-02-092.한국인감정인식_sample\\\\원천데이터\\\\당황',\n 'C:\\\\Users\\\\HP\\\\Desktop\\\\datasets\\\\2020-02-092.한국인감정인식_sample\\\\원천데이터\\\\분노',\n 'C:\\\\Users\\\\HP\\\\Desktop\\\\datasets\\\\2020-02-092.한국인감정인식_sample\\\\원천데이터\\\\불안',\n 'C:\\\\Users\\\\HP\\\\Desktop\\\\datasets\\\\2020-02-092.한국인감정인식_sample\\\\원천데이터\\\\상처',\n 'C:\\\\Users\\\\HP\\\\Desktop\\\\datasets\\\\2020-02-092.한국인감정인식_sample\\\\원천데이터\\\\슬픔',\n 'C:\\\\Users\\\\HP\\\\Desktop\\\\datasets\\\\2020-02-092.한국인감정인식_sample\\\\원천데이터\\\\중립']"
     },
     "execution_count": 3,
     "metadata": {},
     "output_type": "execute_result"
    }
   ],
   "source": [
    "folder_list"
   ],
   "metadata": {
    "collapsed": false,
    "pycharm": {
     "name": "#%%\n"
    }
   }
  },
  {
   "cell_type": "code",
   "execution_count": 8,
   "id": "cfee1d7a",
   "metadata": {
    "pycharm": {
     "name": "#%%\n"
    }
   },
   "outputs": [
    {
     "name": "stderr",
     "output_type": "stream",
     "text": [
      "100%|██████████| 571/571 [00:18<00:00, 30.81it/s]\n",
      "100%|██████████| 544/544 [00:15<00:00, 34.31it/s]\n",
      "100%|██████████| 571/571 [00:16<00:00, 34.99it/s]\n",
      "100%|██████████| 564/564 [00:16<00:00, 34.67it/s]\n",
      "100%|██████████| 571/571 [00:16<00:00, 34.95it/s]\n",
      "100%|██████████| 570/570 [00:15<00:00, 36.05it/s]\n",
      "100%|██████████| 593/593 [00:18<00:00, 32.70it/s]\n"
     ]
    }
   ],
   "source": [
    "for cnt, f in enumerate(folder_list):\n",
    "    image_list = glob(f + '/*.jpg')\n",
    "    for i in tqdm(image_list):\n",
    "        img_array = np.fromfile(i, np.uint8)\n",
    "        img = cv2.imdecode(img_array, cv2.IMREAD_COLOR)\n",
    "\n",
    "        gray = cv2.cvtColor(img, cv2.COLOR_BGR2GRAY)\n",
    "        faces = face_cascade.detectMultiScale(gray, 1.3, minNeighbors=4, minSize = [250,250])\n",
    "        if len(faces) == 1:\n",
    "            for (x,y,w,h) in faces:\n",
    "                cropped = img[y-60:y+h+60, x-30:x+w+30]\n",
    "                new_img_name = savepath+'\\\\'+i.split('\\\\')[-1]\n",
    "                extension = os.path.splitext(new_img_name)[1] # 이미지 확장자\n",
    "                try:\n",
    "                    result, encoded_img = cv2.imencode(extension, cropped)\n",
    "                    if result:\n",
    "                        with open(new_img_name, mode='w+b') as f:\n",
    "                            encoded_img.tofile(f)\n",
    "                except:\n",
    "                    pass"
   ]
  },
  {
   "cell_type": "code",
   "execution_count": 21,
   "id": "8afd6a75",
   "metadata": {
    "pycharm": {
     "name": "#%%\n"
    }
   },
   "outputs": [
    {
     "data": {
      "text/plain": [
       "numpy.ndarray"
      ]
     },
     "execution_count": 21,
     "metadata": {},
     "output_type": "execute_result"
    }
   ],
   "source": [
    "faces[0]"
   ]
  },
  {
   "cell_type": "code",
   "execution_count": null,
   "id": "52e20987",
   "metadata": {
    "pycharm": {
     "name": "#%%\n"
    }
   },
   "outputs": [],
   "source": []
  }
 ],
 "metadata": {
  "kernelspec": {
   "display_name": "Python 3 (ipykernel)",
   "language": "python",
   "name": "python3"
  },
  "language_info": {
   "codemirror_mode": {
    "name": "ipython",
    "version": 3
   },
   "file_extension": ".py",
   "mimetype": "text/x-python",
   "name": "python",
   "nbconvert_exporter": "python",
   "pygments_lexer": "ipython3",
   "version": "3.9.12"
  }
 },
 "nbformat": 4,
 "nbformat_minor": 5
}