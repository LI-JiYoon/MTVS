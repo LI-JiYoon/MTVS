{
 "cells": [
  {
   "cell_type": "markdown",
   "metadata": {},
   "source": [
    "# PART 04. 작물 잎 사진으로 질병 분류하기"
   ]
  },
  {
   "cell_type": "markdown",
   "metadata": {},
   "source": [
    "## 데이터 분할"
   ]
  },
  {
   "cell_type": "markdown",
   "metadata": {},
   "source": [
    "* 데이터 분할을 위한 디렉토리 생성"
   ]
  },
  {
   "cell_type": "code",
   "execution_count": 2,
   "metadata": {},
   "outputs": [
    {
     "ename": "FileExistsError",
     "evalue": "[WinError 183] 파일이 이미 있으므로 만들 수 없습니다: './splitted'",
     "output_type": "error",
     "traceback": [
      "\u001b[1;31m---------------------------------------------------------------------------\u001b[0m",
      "\u001b[1;31mFileExistsError\u001b[0m                           Traceback (most recent call last)",
      "\u001b[1;32m~\\AppData\\Local\\Temp\\ipykernel_10312\\3865409597.py\u001b[0m in \u001b[0;36m<module>\u001b[1;34m\u001b[0m\n\u001b[0;32m      6\u001b[0m \u001b[1;33m\u001b[0m\u001b[0m\n\u001b[0;32m      7\u001b[0m \u001b[0mbase_dir\u001b[0m \u001b[1;33m=\u001b[0m \u001b[1;34m'./splitted'\u001b[0m  \u001b[1;31m# 분류한 데이터 저장할 폴더 생성\u001b[0m\u001b[1;33m\u001b[0m\u001b[1;33m\u001b[0m\u001b[0m\n\u001b[1;32m----> 8\u001b[1;33m \u001b[0mos\u001b[0m\u001b[1;33m.\u001b[0m\u001b[0mmkdir\u001b[0m\u001b[1;33m(\u001b[0m\u001b[0mbase_dir\u001b[0m\u001b[1;33m)\u001b[0m\u001b[1;33m\u001b[0m\u001b[1;33m\u001b[0m\u001b[0m\n\u001b[0m\u001b[0;32m      9\u001b[0m \u001b[1;33m\u001b[0m\u001b[0m\n\u001b[0;32m     10\u001b[0m \u001b[0mtrain_dir\u001b[0m \u001b[1;33m=\u001b[0m \u001b[0mos\u001b[0m\u001b[1;33m.\u001b[0m\u001b[0mpath\u001b[0m\u001b[1;33m.\u001b[0m\u001b[0mjoin\u001b[0m\u001b[1;33m(\u001b[0m\u001b[0mbase_dir\u001b[0m\u001b[1;33m,\u001b[0m \u001b[1;34m'train'\u001b[0m\u001b[1;33m)\u001b[0m \u001b[1;31m# 분리후 train, val,test 데이터 저장할 폴더 생성\u001b[0m\u001b[1;33m\u001b[0m\u001b[1;33m\u001b[0m\u001b[0m\n",
      "\u001b[1;31mFileExistsError\u001b[0m: [WinError 183] 파일이 이미 있으므로 만들 수 없습니다: './splitted'"
     ]
    }
   ],
   "source": [
    "import os\n",
    "import shutil\n",
    " \n",
    "original_dataset_dir = './dataset'   # 데이터 셋 위치 경로\n",
    "classes_list = os.listdir(original_dataset_dir) # 경로내 하위 폴더 목록을 가져와 클래스 목록으로 저장\n",
    " \n",
    "base_dir = './splitted'  # 분류한 데이터 저장할 폴더 생성\n",
    "os.mkdir(base_dir)\n",
    " \n",
    "train_dir = os.path.join(base_dir, 'train') # 분리후 train, val,test 데이터 저장할 폴더 생성\n",
    "os.mkdir(train_dir)\n",
    "validation_dir = os.path.join(base_dir, 'val')\n",
    "os.mkdir(validation_dir)\n",
    "test_dir = os.path.join(base_dir, 'test')\n",
    "os.mkdir(test_dir)#############################################################\n",
    "\n",
    "for cls in classes_list:     # train, val, test 폴더 각각에 클래스 목록 폴더 생성\n",
    "    os.mkdir(os.path.join(train_dir, cls))\n",
    "    os.mkdir(os.path.join(validation_dir, cls))\n",
    "    os.mkdir(os.path.join(test_dir, cls))"
   ]
  },
  {
   "cell_type": "markdown",
   "metadata": {},
   "source": [
    "* 데이터 분할과 클래스별 데이터 수 확인"
   ]
  },
  {
   "cell_type": "code",
   "execution_count": null,
   "metadata": {},
   "outputs": [],
   "source": [
    "import math\n",
    " \n",
    "for cls in classes_list: # 모든 클래스에 대해 하위 작업들 반복\n",
    "    path = os.path.join(original_dataset_dir, cls)\n",
    "    fnames = os.listdir(path) # path 위치 내 모든 이미지 파일을 변수 fnames에 저장\n",
    " \n",
    "    train_size = math.floor(len(fnames) * 0.6) # train, val, test 데이터 비율을 6:2:2 로 지정\n",
    "    validation_size = math.floor(len(fnames) * 0.2)\n",
    "    test_size = math.floor(len(fnames) * 0.2)\n",
    "    \n",
    "    train_fnames = fnames[:train_size] # train 데이터에 해당되는 파일이름을 train_fnames에 저장\n",
    "    print(\"Train size(\",cls,\"): \", len(train_fnames))\n",
    "    for fname in train_fnames: # 모든 train 데이터에 대해 하위 작업들 반복\n",
    "        src = os.path.join(path, fname) # 원본 파일 경로\n",
    "        dst = os.path.join(os.path.join(train_dir, cls), fname) # 복사본 저장 경로\n",
    "        shutil.copyfile(src, dst) # 저장 실행\n",
    "        \n",
    "    validation_fnames = fnames[train_size:(validation_size + train_size)] # train 데이터에서 했던 작업과 동일\n",
    "    print(\"Validation size(\",cls,\"): \", len(validation_fnames))\n",
    "    for fname in validation_fnames:\n",
    "        src = os.path.join(path, fname)\n",
    "        dst = os.path.join(os.path.join(validation_dir, cls), fname)\n",
    "        shutil.copyfile(src, dst)\n",
    "        \n",
    "    test_fnames = fnames[(train_size+validation_size):(validation_size + train_size +test_size)] # test 데이터에서 했던 작업과 동일\n",
    "\n",
    "    print(\"Test size(\",cls,\"): \", len(test_fnames))\n",
    "    for fname in test_fnames:\n",
    "        src = os.path.join(path, fname)\n",
    "        dst = os.path.join(os.path.join(test_dir, cls), fname)\n",
    "        shutil.copyfile(src, dst)\n"
   ]
  },
  {
   "cell_type": "markdown",
   "metadata": {},
   "source": [
    "## 베이스라인 모델 학습"
   ]
  },
  {
   "cell_type": "markdown",
   "metadata": {},
   "source": [
    "* 베이스라인 모델 학습을 위한 준비"
   ]
  },
  {
   "cell_type": "code",
   "execution_count": null,
   "metadata": {},
   "outputs": [],
   "source": [
    "import torch\n",
    "import os\n",
    " \n",
    "USE_CUDA = torch.cuda.is_available() # 현재 환경에서 GPU 사용 가능 여부 (True/False)\n",
    "DEVICE = torch.device(\"cuda\" if USE_CUDA else \"cpu\") # 현재 사용하는 장비를 저장(위에 코드가 True--> cuda/ False-->CPU)\n",
    "BATCH_SIZE = 256 # 배치 사이즈 설정\n",
    "EPOCH = 30 # 에폭 횟수 설정"
   ]
  },
  {
   "cell_type": "code",
   "execution_count": 2,
   "metadata": {},
   "outputs": [
    {
     "name": "stderr",
     "output_type": "stream",
     "text": [
      "C:\\Users\\HP\\miniconda3\\envs\\yoona\\lib\\site-packages\\torchvision\\io\\image.py:13: UserWarning: Failed to load image Python extension: \n",
      "  warn(f\"Failed to load image Python extension: {e}\")\n"
     ]
    }
   ],
   "source": [
    "import torchvision.transforms as transforms\n",
    "from torchvision.datasets import ImageFolder \n",
    " \n",
    "transform_base = transforms.Compose([transforms.Resize((64,64)), transforms.ToTensor()]) \n",
    "# 이미지를 64*64로 조정하고, ToTensor를 사용해 이미지를 Tensor로 젼환해 값을 0~1 로 정규화 시키기위해 transforms.Compose 함수를 불러와 transform_base 변수 선언\n",
    "train_dataset = ImageFolder(root='./splitted/train', transform=transform_base) \n",
    "# ImageFolder 를 통해 데이터셋을 불러옵니다. root는 데이터를 불러올 경로이고 transform은 데이터를 불러온후 전처리 방법을 지정합니다.\n",
    "#위에 정의한 transform_base를 사용합니다\n",
    "val_dataset = ImageFolder(root='./splitted/val', transform=transform_base)\n",
    "# 위와 같음"
   ]
  },
  {
   "cell_type": "code",
   "execution_count": 1,
   "metadata": {},
   "outputs": [
    {
     "ename": "NameError",
     "evalue": "name 'torch' is not defined",
     "output_type": "error",
     "traceback": [
      "\u001b[1;31m---------------------------------------------------------------------------\u001b[0m",
      "\u001b[1;31mNameError\u001b[0m                                 Traceback (most recent call last)",
      "\u001b[1;32m~\\AppData\\Local\\Temp\\ipykernel_1768\\298483657.py\u001b[0m in \u001b[0;36m<module>\u001b[1;34m\u001b[0m\n\u001b[0;32m      1\u001b[0m \u001b[1;32mfrom\u001b[0m \u001b[0mtorch\u001b[0m\u001b[1;33m.\u001b[0m\u001b[0mutils\u001b[0m\u001b[1;33m.\u001b[0m\u001b[0mdata\u001b[0m \u001b[1;32mimport\u001b[0m \u001b[0mDataLoader\u001b[0m\u001b[1;33m\u001b[0m\u001b[1;33m\u001b[0m\u001b[0m\n\u001b[0;32m      2\u001b[0m \u001b[1;33m\u001b[0m\u001b[0m\n\u001b[1;32m----> 3\u001b[1;33m \u001b[0mtrain_loader\u001b[0m \u001b[1;33m=\u001b[0m \u001b[0mtorch\u001b[0m\u001b[1;33m.\u001b[0m\u001b[0mutils\u001b[0m\u001b[1;33m.\u001b[0m\u001b[0mdata\u001b[0m\u001b[1;33m.\u001b[0m\u001b[0mDataLoader\u001b[0m\u001b[1;33m(\u001b[0m\u001b[0mtrain_dataset\u001b[0m\u001b[1;33m,\u001b[0m \u001b[0mbatch_size\u001b[0m\u001b[1;33m=\u001b[0m\u001b[0mBATCH_SIZE\u001b[0m\u001b[1;33m,\u001b[0m \u001b[0mshuffle\u001b[0m\u001b[1;33m=\u001b[0m\u001b[1;32mTrue\u001b[0m\u001b[1;33m,\u001b[0m \u001b[0mnum_workers\u001b[0m\u001b[1;33m=\u001b[0m\u001b[1;36m4\u001b[0m\u001b[1;33m)\u001b[0m\u001b[1;33m\u001b[0m\u001b[1;33m\u001b[0m\u001b[0m\n\u001b[0m\u001b[0;32m      4\u001b[0m \u001b[1;31m# 불러온 데이터를 배치 단위로 불러옵니다. shuffle은 데이터의 순서를 섞어 가져오는지의 여부이고, num_workers는 서브프로세스의 개수입니다.\u001b[0m\u001b[1;33m\u001b[0m\u001b[1;33m\u001b[0m\u001b[1;33m\u001b[0m\u001b[0m\n\u001b[0;32m      5\u001b[0m \u001b[1;31m# num_workers default는 0 으로 이경우 main process에 모두 배정됩니다.\u001b[0m\u001b[1;33m\u001b[0m\u001b[1;33m\u001b[0m\u001b[1;33m\u001b[0m\u001b[0m\n",
      "\u001b[1;31mNameError\u001b[0m: name 'torch' is not defined"
     ]
    }
   ],
   "source": [
    "from torch.utils.data import DataLoader\n",
    "\n",
    "train_loader = torch.utils.data.DataLoader(train_dataset, batch_size=BATCH_SIZE, shuffle=True, num_workers=4)\n",
    "# 불러온 데이터를 배치 단위로 불러옵니다. shuffle은 데이터의 순서를 섞어 가져오는지의 여부이고, num_workers는 서브프로세스의 개수입니다.\n",
    "# num_workers default는 0 으로 이경우 main process에 모두 배정됩니다.\n",
    "val_loader = torch.utils.data.DataLoader(val_dataset, batch_size=BATCH_SIZE, shuffle=True, num_workers=4)\n",
    "# 위와 동일"
   ]
  },
  {
   "cell_type": "markdown",
   "metadata": {},
   "source": [
    "* 베이스라인 모델 설계하기"
   ]
  },
  {
   "cell_type": "code",
   "execution_count": null,
   "metadata": {},
   "outputs": [],
   "source": [
    "import torch.nn as nn\n",
    "import torch.nn.functional as F\n",
    "import torch.optim as optim\n",
    " \n",
    "class Net(nn.Module):  ## nn.Module 클래스를 상속하여 딥러닝 모델과 관련된 기본적인 함수를 사용이 가능해집니다.\n",
    "  \n",
    "    def __init__(self): # 모델에서 사용될 전체 layer 정의\n",
    "    \n",
    "        super(Net, self).__init__()  ## nn.Module 내 메서드 상속\n",
    "\n",
    "        self.conv1 = nn.Conv2d(3, 32, 3, padding=1) # 입력 채널:3 출력채널:32 커널크기:3, 패딩 1의 CONV2D layer\n",
    "        self.pool = nn.MaxPool2d(2,2)   # 커널 사이즈2, stride 2의 maxplooing layer\n",
    "        self.conv2 = nn.Conv2d(32, 64, 3, padding=1)  # 입력 채널:32 출력채널:64 커널크기:3, 패딩 1의 CONV2D layer\n",
    "        self.conv3 = nn.Conv2d(64, 64, 3, padding=1)   # 입력 채널:64 출력채널:64 커널크기:3, 패딩 1의 CONV2D layer\n",
    "\n",
    "        self.fc1 = nn.Linear(4096, 512) # Flatten 이후 사용될 1번째 fully connected layer(Dense Layer)\n",
    "        self.fc2 = nn.Linear(512, 33) v# Flatten 이후 사용될 2번쨰 fully connected layer(Dense Layer)\n",
    "    \n",
    "    def forward(self, x):  # 순전파 과정 정의\n",
    "    \n",
    "        x = self.conv1(x) # 1번쨰 Conv2d layer를 이용해 Feature Map 생성\n",
    "        x = F.relu(x)  # 위에 Feature Map 에 relu 함수 적용\n",
    "        x = self.pool(x) # 위에서 정의한 Maxpooling 적용\n",
    "        x = F.dropout(x, p=0.25, training=self.training) # maxpooling 이후 결과값에 대한 연산. 노드의 25%를 Dropout 함\n",
    "        # training은 학습 모드일때와 검증 모드일 때의 차이를 두기 위해 존재. 학습과정에선 DropOut 수행. 평가과정에선 x\n",
    "\n",
    "        x = self.conv2(x) # 위와 같은 방식\n",
    "        x = F.relu(x) \n",
    "        x = self.pool(x) \n",
    "        x = F.dropout(x, p=0.25, training=self.training)\n",
    "\n",
    "        x = self.conv3(x)  # 위와 같은 방식\n",
    "        x = F.relu(x) \n",
    "        x = self.pool(x) \n",
    "        x = F.dropout(x, p=0.25, training=self.training)\n",
    "\n",
    "        x = x.view(-1, 4096)  # 생성된 Feature Map 1차원으로 펼치는 flatten 과정\n",
    "        x = self.fc1(x)  # 위의 Output 을 1번째 fully connected layer(Dense Layer)에 통과 시킴\n",
    "        x = F.relu(x)  # reLu 적용\n",
    "        x = F.dropout(x, p=0.5, training=self.training)# dropout\n",
    "        x = self.fc2(x)  # 위의 Output 을 2번째 fully connected layer(Dense Layer)에 통과 시킴. 출력 결과 33개\n",
    "\n",
    "        return F.log_softmax(x, dim=1)  # 33개의 결괏값에 대해 softmax 함수를 적용하여 데이터가 각 클래스에 속할 확률을 출력\n",
    "\n",
    "model_base = Net().to(DEVICE)   # 모델 객체 생성 후, 현재 사용 중인 장비에 할당\n",
    "optimizer = optim.Adam(model_base.parameters(), lr=0.001)  # optimizer는 adam, learning rate는 0.001로 설정"
   ]
  },
  {
   "cell_type": "markdown",
   "metadata": {},
   "source": [
    "* 모델 학습을 위한 함수"
   ]
  },
  {
   "cell_type": "code",
   "execution_count": null,
   "metadata": {},
   "outputs": [],
   "source": [
    "def train(model, train_loader, optimizer):\n",
    "    model.train()  # 모델을 학습 모드로 설정\n",
    "    for batch_idx, (data, target) in enumerate(train_loader):# for 문으로 batch_idx, (data, target) 를 꺼내옴\n",
    "        data, target = data.to(DEVICE), target.to(DEVICE) # data와 target 변수를 사용중인 장비에 할당\n",
    "        optimizer.zero_grad() # optimizer 초기화(이전 Batch의 Gradient 값 초기화)\n",
    "        output = model(data)   # output 값 계산\n",
    "        loss = F.cross_entropy(output, target)# output값(모델에서 출력한 값) 과 target(실제값) 사이의 오차를 cross entropy loss를 사용하여 계산. \n",
    "        loss.backward()   # 위에서 계산한 loss값을 이용하여 역전파 실행. 계산된 Gradient 값을 각 parameter에 할당\n",
    "        optimizer.step()  # 할당된 값을 통해 모델의 parameter 업데이트"
   ]
  },
  {
   "cell_type": "markdown",
   "metadata": {},
   "source": [
    "* 모델 평가를 위한 함수"
   ]
  },
  {
   "cell_type": "code",
   "execution_count": null,
   "metadata": {},
   "outputs": [],
   "source": [
    "def evaluate(model, test_loader):\n",
    "    model.eval()  # 모델 평가 모드로 실행\n",
    "    test_loss = 0 # 각 배치의 loss 값을 합산한 값 저장 변수\n",
    "    correct = 0   # 올바르게 예측한 데이터 수  세는 변수\n",
    "    \n",
    "    with torch.no_grad(): # 모델 평가하는 동안엔 parameter 업데이트를 중단해줌\n",
    "        for data, target in test_loader:  \n",
    "            data, target = data.to(DEVICE), target.to(DEVICE)  # 위와 동일\n",
    "            output = model(data) #위와 동일\n",
    "            \n",
    "            test_loss += F.cross_entropy(output,target, reduction='sum').item() #위와 동일 \n",
    " \n",
    "            \n",
    "            pred = output.max(1, keepdim=True)[1] # 33개의 클래스에 속할 각각의 확률들 중 가장 큰 값의 인덱스를 예측값으로 저장\n",
    "            correct += pred.eq(target.view_as(pred)).sum().item() #target tensor의 구조를 pred tensor와 같은 구조로 정렬\n",
    "   \n",
    "    test_loss /= len(test_loader.dataset) # loss의 평균값 구함\n",
    "    test_accuracy = 100. * correct / len(test_loader.dataset)  # 정확도의 평균값 구함\n",
    "    return test_loss, test_accuracy  # 측정한 test loss 와 정확도 반환"
   ]
  },
  {
   "cell_type": "markdown",
   "metadata": {},
   "source": [
    "* 모델 학습을 실행하기"
   ]
  },
  {
   "cell_type": "code",
   "execution_count": null,
   "metadata": {},
   "outputs": [],
   "source": [
    "import time\n",
    "import copy\n",
    " \n",
    "def train_baseline(model ,train_loader, val_loader, optimizer, num_epochs = 30):\n",
    "    best_acc = 0.0  # 가장 높은 정확도를 가진 모델의 정확도 저장\n",
    "    best_model_wts = copy.deepcopy(model.state_dict())  # 가장 높은 정확도를 가진 모델 저장\n",
    " \n",
    "    for epoch in range(1, num_epochs + 1):\n",
    "        since = time.time()  # epoch 당 소요된 시간 측정을 위해 해당 epoch 시작 시간 저장\n",
    "        train(model, train_loader, optimizer) # 모델 학습\n",
    "        train_loss, train_acc = evaluate(model, train_loader) # 해당 epoch에서의 loss 값, 정확도 값 계산\n",
    "        val_loss, val_acc = evaluate(model, val_loader) ## 해당 epoch에서의 loss 값, 정확도 값 계산\n",
    "        \n",
    "        if val_acc > best_acc:  # 현재 검증 정확도가 지금까지의 최고 정확도 보다 높다면\n",
    "            best_acc = val_acc # 최고 정확도 값을 업데이트 하고\n",
    "            best_model_wts = copy.deepcopy(model.state_dict()) # 해당 epoch의 모델을 best_model_wts에 저장\n",
    "        \n",
    "        time_elapsed = time.time() - since  # 하나의 epoch 당 소요 시간 계산. 시작 시간-epoch 끝난 시간\n",
    "        print('-------------- epoch {} ----------------'.format(epoch))\n",
    "        print('train Loss: {:.4f}, Accuracy: {:.2f}%'.format(train_loss, train_acc))  # train loss, 정확도 출력  \n",
    "        print('val Loss: {:.4f}, Accuracy: {:.2f}%'.format(val_loss, val_acc)) # val loss, 정확도 출력\n",
    "        print('Completed in {:.0f}m {:.0f}s'.format(time_elapsed // 60, time_elapsed % 60)) # 에폭소요 시간 출력\n",
    "    \n",
    "    model.load_state_dict(best_model_wts)  \n",
    "    return model\n",
    " \n",
    "\n",
    "base = train_baseline(model_base, train_loader, val_loader, optimizer, EPOCH)  \t #(16)  train_baseline() 함수 이용하여 baseline 모델 학습시킴\n",
    "torch.save(base,'baseline.pt') # 학습 완료된 모델 저장"
   ]
  },
  {
   "cell_type": "markdown",
   "metadata": {},
   "source": [
    "## Transfer Learning 모델 학습"
   ]
  },
  {
   "cell_type": "markdown",
   "metadata": {},
   "source": [
    "* Transfer Learning을 위한 준비"
   ]
  },
  {
   "cell_type": "code",
   "execution_count": null,
   "metadata": {},
   "outputs": [],
   "source": [
    "data_transforms = {\n",
    "    'train': transforms.Compose([ #  train 데이터 전처리& augmentation.\n",
    "        transforms.Resize([64,64]), # 이미지 크기 64 * 64 로 조정\n",
    "        transforms.RandomHorizontalFlip(), # 이미지를 무작위로 좌우 반전\n",
    "        transforms.RandomVerticalFlip(),   # 이미지를 무작위로 상하 반전\n",
    "        transforms.RandomCrop(52),  # 이미지 일부를 랜덤하게 잘라내어 52 * 52 사이즈로 변경\n",
    "        transforms.ToTensor(), # 이미지를 tensor로 변환, 0,1 사이 값으로 변경\n",
    "        transforms.Normalize([0.485, 0.456, 0.406], [0.229, 0.224, 0.225]) ]), # 정규화 실행: 1번째 대괄호: rgb 채널에 적용할 평균값\n",
    "        # 2번째 대괄호: rgb 채널에 적용될 표준편차 값\n",
    "    \n",
    "    'val': transforms.Compose([transforms.Resize([64,64]),  #  val 데이터 전처리& augmentation. 위와 이하 동문.\n",
    "        transforms.RandomCrop(52), transforms.ToTensor(),\n",
    "        transforms.Normalize([0.485, 0.456, 0.406], [0.229, 0.224, 0.225]) ])\n",
    "}"
   ]
  },
  {
   "cell_type": "code",
   "execution_count": null,
   "metadata": {},
   "outputs": [],
   "source": [
    "data_dir = './splitted' # 학습 데이터와 검증 데이터를 불러올 경로 설정\n",
    "image_datasets = {x: ImageFolder(root=os.path.join(data_dir, x), transform=data_transforms[x]) for x in ['train', 'val']} \n",
    "# ImageFolder 를 통해 데이터셋을 불러옵니다. root는 데이터를 불러올 경로이고 transform은 데이터를 불러온후 전처리 방법을 지정합니다.\n",
    "#앞서 정의한 transform_base를 사용합니다\n",
    "# 딕셔너리 형태로 구성하여 불러옵니다\n",
    "dataloaders = {x: torch.utils.data.DataLoader(image_datasets[x], batch_size=BATCH_SIZE, shuffle=True, num_workers=4) for x in ['train', 'val']} \n",
    "# 불러온 데이터를 배치 단위로 불러옵니다. shuffle은 데이터의 순서를 섞어 가져오는지의 여부이고, num_workers는 서브프로세스의 개수입니다.\n",
    "# num_workers default는 0 으로 이경우 main process에 모두 배정됩니다\n",
    "# 딕셔너리 형태로 구성해 불러옵니다\n",
    "\n",
    "dataset_sizes = {x: len(image_datasets[x]) for x in ['train', 'val']}\n",
    "# 이후 활용을 위해 학습데이터와 검증데이터의 총 개수를 저장합니다.\n",
    "# 딕셔너리 형태로 구성합니다.\n",
    "\n",
    "class_names = image_datasets['train'].classes\n",
    "# 33개의 클래스 목록의 이름을 지정합니다."
   ]
  },
  {
   "cell_type": "markdown",
   "metadata": {},
   "source": [
    "* Pre-Trained Model 불러오기"
   ]
  },
  {
   "cell_type": "code",
   "execution_count": null,
   "metadata": {},
   "outputs": [],
   "source": [
    "from torchvision import models\n",
    " \n",
    "resnet = models.resnet50(pretrained=True)  # ResNet 이미지 분류 모델을 parameter 값까지 가져 옵니다\n",
    "num_ftrs = resnet.fc.in_features   # 모델에 채널 수가 33개인 layer를 새로 추가해 주기 위해 \n",
    "#모델의 마지막 fully connected layer의 입력채널 수를 가져옵니다.\n",
    "#in_featured는 해당 layer의 입력 채널수를 불러오는 함수입니다.\n",
    "\n",
    "resnet.fc = nn.Linear(num_ftrs, 33) \n",
    "# 불러온 모델의 마지막 Fullt Connedted Layer의 입력채널수는 동일하지만 출력수는 33개인 layer를 새로 추가해줍니다.\n",
    "resnet = resnet.to(DEVICE)\n",
    "# 현재 사용중인 장비에 모델을 할당합니다.\n",
    " \n",
    "criterion = nn.CrossEntropyLoss() # loss 함수를 cross entropy loss 사용\n",
    "optimizer_ft = optim.Adam(filter(lambda p: p.requires_grad, resnet.parameters()), lr=0.001)\n",
    "# optimizer 는 adam, learning rate는 0.01로 설정 \n",
    "# 일부 layer의 parameter만 업데이트 하기 위해 filter 메서드와 lamda 메서드를 사용하여\n",
    "# requires_grad= true로 설정한 layer만 parameter 업데이트\n",
    " \n",
    "from torch.optim import lr_scheduler \n",
    "exp_lr_scheduler = lr_scheduler.StepLR(optimizer_ft, step_size=7, gamma=0.1) \n",
    "#StepLR()메서드는 Epoch에 따라 learning rate를 변경하는 역할을 합니다.\n",
    "# 이 경우 7 epoch 마다 0.1 씩 곱해 learning rate를 감소시킨다는 의미 입니다."
   ]
  },
  {
   "cell_type": "markdown",
   "metadata": {},
   "source": [
    "* Pre-Trained Model의 일부 Layer Freeze하기"
   ]
  },
  {
   "cell_type": "code",
   "execution_count": null,
   "metadata": {},
   "outputs": [],
   "source": [
    "ct = 0 # 해당layer가 몇번째 layer인지 나타내는 변수 ct의 값을 0으로 초기화\n",
    "for child in resnet.children():  # children() 메서드는 모델의 자식 모튤을 반복 가능한 객체로 반환하는 메서드. resnet모델의 모든 layer정보를 담고 있음\n",
    "    ct += 1  # for문 1번 반복후 다음 layer를 가리킵니다.\n",
    "    if ct < 6: # 1~5번 layer는\n",
    "        for param in child.parameters(): # chilf.parameters()는 각 layer의 parameter tensor를 의미합니다. 각 tensor에는 requires_grad 옵션이 있고, 기본값은 true 로 설정되어 있습니다.\n",
    "            param.requires_grad = False # parameter를 업데이트 하지 않습니다"
   ]
  },
  {
   "cell_type": "markdown",
   "metadata": {},
   "source": [
    "* Transfer Learning 모델 학습과 검증을 위한 함수"
   ]
  },
  {
   "cell_type": "code",
   "execution_count": null,
   "metadata": {},
   "outputs": [],
   "source": [
    "def train_resnet(model, criterion, optimizer, scheduler, num_epochs=25):\n",
    "\n",
    "    best_model_wts = copy.deepcopy(model.state_dict())  # 정확도가 가장 높은 모델을 저장할 변수 best_model_wts를 선언\n",
    "    best_acc = 0.0  # 정확도가 가장 높은 모델의 정확도를 저장하는 변수 best_acc를 선언하고, 값을 0으로 초기화\n",
    "    \n",
    "    for epoch in range(num_epochs):\n",
    "        print('-------------- epoch {} ----------------'.format(epoch+1)) # 현재 진행중인 에폭 출력\n",
    "        since = time.time() # 한 에폭 당 소요되는 시간을 측정하기 위해 해당 에폭을 시작할 떄의 시각을 저장합니다.                                    \n",
    "        for phase in ['train', 'val']: # 한 에폭마다 학습모드와 검증 모드를 각각 실행합니다\n",
    "            if phase == 'train': # 상황에 적합하게 모델을 학습 모드로 설정합니다\n",
    "                model.train() \n",
    "            else:\n",
    "                model.eval()     # 상황에 적합하게 모델을 검증 모드로 설정합니다.\n",
    " \n",
    "            running_loss = 0.0  # 모든 데이터의 loss를 합산해 저장할 변수 running_loss 선언 후 0.0으로 초기화\n",
    "            running_corrects = 0  # 올바르게 예측한 경우의 수를 세는 변수인 running_corrects를 선언, 0으로 초기화\n",
    " \n",
    "            \n",
    "            for inputs, labels in dataloaders[phase]: # 모델의 현재 모드에 해당하는 Dataloader에서 데이터를 입력받습니다.\n",
    "                inputs = inputs.to(DEVICE)  # 데이터와 해당하는 label 값을 현재 사용중인 장비에 할당합니다.\n",
    "                labels = labels.to(DEVICE)  # 데이터와 해당하는 label 값을 현재 사용중인 장비에 할당합니다.\n",
    "                \n",
    "                optimizer.zero_grad() # optimizer 초기화(이전 Batch의 Gradient 값 초기화)\n",
    "                \n",
    "                with torch.set_grad_enabled(phase == 'train'): # 학습단계에서만 모델의 gradient를 업데이트 하도록 set_grad_enabled 메서드 사용 \n",
    "                    outputs = model(inputs)  # 데이터를 모델에 입력하여 output 값 계산\n",
    "                    _, preds = torch.max(outputs, 1) # 33개의 클래스에 속할 각각의 확률들 중 가장 큰 값의 인덱스를 예측값으로 저장\n",
    "                    loss = criterion(outputs, labels)  # output값과 target 값 사이이 loss를 계산합니다\n",
    "    \n",
    "                    if phase == 'train':   # 모델이 학습 모드인 경우에만\n",
    "                        loss.backward() # 역전파를 실행하고\n",
    "                        optimizer.step() # 모델의 parameter 값을 업데이트 합니다.\n",
    " \n",
    "                running_loss += loss.item() * inputs.size(0)  # 모든 데이터 loss를 합산해 저장합니다. inputs.size(0)는 dataloader에 전달되는 미니배치의 데이터수를 의미합니다\n",
    "                running_corrects += torch.sum(preds == labels.data)  # 모델을 동해 예측한 값과 target이 같으면 running_corrects를 1만큼 증가시키고, 같지 않으면 증가시키지 않습니다.\n",
    "            if phase == 'train': # 7 에폭마다 learning rate를 다르게 조정하는 scheduler와 관련된 부분입니다. 한 epoch 마다 1번, 모델이 현재 학습 단계일 경우에만 실행 \n",
    "                scheduler.step()\n",
    "                \n",
    "                l_r =[x['lr'] for x in optimizerz-ft.param_groups] #scheduler에 의해 learning rate가 조정되는 것을 직접확인\n",
    "                # optimizer_ft.param_groups : 학습 과정에서는 parameter를 저장하고 있는 딕셔너리\n",
    "                # 키값 lr 을 이용하여 각 epoch의 learning rate를 불러옴\n",
    "                print('learning rate: ', l_r) \n",
    " \n",
    "            epoch_loss = running_loss/dataset_sizes[phase]   # 해당 epoch의 loss 계산\n",
    "            epoch_acc = running_corrects.double()/dataset_sizes[phase]  # 해당 epoch의 정확도 계산\n",
    " \n",
    "            print('{} Loss: {:.4f} Acc: {:.4f}'.format(phase, epoch_loss, epoch_acc))  # 해당 eopch과 현재 모델의 단계, 정확도 출력\n",
    " \n",
    "          \n",
    "            if phase == 'val' and epoch_acc > best_acc: # 검증 단계에서 현재 epoch의 정확도가 최고 정확도 보다 높다면\n",
    "                best_acc = epoch_acc # 최고 정확도 업데이트  하고\n",
    "                best_model_wts = copy.deepcopy(model.state_dict()) # 해당 epoch의 모델을 best_model_wts에 저장\n",
    " \n",
    "        time_elapsed = time.time() - since  # 한 epoch 당 소요된 시간 계산\n",
    "        print('Completed in {:.0f}m {:.0f}s'.format(time_elapsed // 60, time_elapsed % 60)) # 소요시간 출력\n",
    "    print('Best val Acc: {:4f}'.format(best_acc)) #  최고 정확도 출력\n",
    " \n",
    "    model.load_state_dict(best_model_wts) # 정확도가 가장 높은 모델을 불러온 후\n",
    "\n",
    "    return model #반환"
   ]
  },
  {
   "cell_type": "markdown",
   "metadata": {},
   "source": [
    "* 모델 학습을 실행하기"
   ]
  },
  {
   "cell_type": "code",
   "execution_count": null,
   "metadata": {},
   "outputs": [],
   "source": [
    "model_resnet50 = train_resnet(resnet, criterion, optimizer_ft, exp_lr_scheduler, num_epochs=EPOCH) \n",
    "# 앞서 정의한 train_resnet 함수를 이용하여 RestNet50 모델을 Fine-Tuning 합니다.\n",
    "torch.save(model_resnet50, 'resnet50.pt')\n",
    "# 학습이 완료된 모델을 'resnet50.pt란 이름으로 저장합니다'"
   ]
  },
  {
   "cell_type": "markdown",
   "metadata": {},
   "source": [
    "## 모델 평가"
   ]
  },
  {
   "cell_type": "markdown",
   "metadata": {},
   "source": [
    "* 베이스라인 모델 평가를 위한 전처리하기"
   ]
  },
  {
   "cell_type": "code",
   "execution_count": null,
   "metadata": {},
   "outputs": [],
   "source": [
    "transform_base = transforms.Compose([transforms.Resize([64,64]),transforms.ToTensor()])\n",
    "# 이미지를 64*64로 조정하고, ToTensor를 사용해 이미지를 Tensor로 젼환해 값을 0~1 로 정규화 시키기위해 transforms.Compose 함수를 불러와 transform_base 변수 선언\n",
    "test_base = ImageFolder(root='./splitted/test',transform=transform_base)  \n",
    "# ImageFolder 를 통해 데이터셋을 불러옵니다. root는 데이터를 불러올 경로이고 transform은 데이터를 불러온후 전처리 방법을 지정합니다.\n",
    "#위에 정의한 transform_base를 사용합니다\n",
    "test_loader_base = torch.utils.data.DataLoader(test_base, batch_size=BATCH_SIZE, shuffle=True, num_workers=4)\n",
    "# 불러온 데이터를 배치 단위로 불러옵니다. shuffle은 데이터의 순서를 섞어 가져오는지의 여부이고, num_workers는 서브프로세스의 개수입니다.\n",
    "# num_workers default는 0 으로 이경우 main process에 모두 배정됩니다."
   ]
  },
  {
   "cell_type": "markdown",
   "metadata": {},
   "source": [
    "* Transfer Learning모델 평가를 위한 전처리하기"
   ]
  },
  {
   "cell_type": "code",
   "execution_count": null,
   "metadata": {},
   "outputs": [],
   "source": [
    "transform_resNet = transforms.Compose([ #train 데이터 전처리& augmentation.\n",
    "        transforms.Resize([64,64]),   # 이미지 크기 64 * 64 로 조정\n",
    "        transforms.RandomCrop(52),    # 이미지 일부를 랜덤하게 잘라내어 52 * 52 사이즈로 변경\n",
    "        transforms.ToTensor(),        # 이미지를 tensor로 변환, 0,1 사이 값으로 변경\n",
    "        transforms.Normalize([0.485, 0.456, 0.406], [0.229, 0.224, 0.225]) # 정규화 실행: 1번째 대괄호: rgb 채널에 적용할 평균값\n",
    "        # 2번째 대괄호: rgb 채널에 적용될 표준편차 값\n",
    "    ])\n",
    "    \n",
    "test_resNet = ImageFolder(root='./splitted/test', transform=transform_resNet) \n",
    "# ImageFolder 를 통해 데이터셋을 불러옵니다. root는 데이터를 불러올 경로이고 transform은 데이터를 불러온후 전처리 방법을 지정합니다.\n",
    "#위에 정의한 transform_resNet을 사용합니다\n",
    "test_loader_resNet = torch.utils.data.DataLoader(test_resNet, batch_size=BATCH_SIZE, shuffle=True, num_workers=4)\n",
    "# 불러온 데이터를 배치 단위로 불러옵니다. shuffle은 데이터의 순서를 섞어 가져오는지의 여부이고, num_workers는 서브프로세스의 개수입니다.\n",
    "# num_workers default는 0 으로 이경우 main process에 모두 배정됩니다."
   ]
  },
  {
   "cell_type": "markdown",
   "metadata": {},
   "source": [
    "* 베이스라인 모델 성능 평가하기"
   ]
  },
  {
   "cell_type": "code",
   "execution_count": null,
   "metadata": {},
   "outputs": [],
   "source": [
    "baseline=torch.load('baseline.pt') # 저장된 베이스라인 모델 불러옴\n",
    "baseline.eval()   # 모델을 평가 모드로 실행\n",
    "test_loss, test_accuracy = evaluate(baseline, test_loader_base)\n",
    " # 앞서 정의한 evaluate 함수를 이용하요 테스트 데이터에 대한 정확도 측정\n",
    "print('baseline test acc:  ', test_accuracy)# 평가 정확도 출력"
   ]
  },
  {
   "cell_type": "markdown",
   "metadata": {},
   "source": [
    "* Transfer Learning 모델 성능 평가하기"
   ]
  },
  {
   "cell_type": "code",
   "execution_count": null,
   "metadata": {},
   "outputs": [],
   "source": [
    "resnet50=torch.load('resnet50.pt') # 저장된 transfer learning 모델 불러옴\n",
    "resnet50.eval()   # 모델을 평가 모드로 실행\n",
    "test_loss, test_accuracy = evaluate(resnet50, test_loader_resNet) # 앞서 정의한 evaluate 함수를 이용하요 테스트 데이터에 대한 정확도 측정\n",
    "\n",
    "print('ResNet test acc:  ', test_accuracy) # 평가 정확도 출력"
   ]
  }
 ],
 "metadata": {
  "kernelspec": {
   "display_name": "Python 3 (ipykernel)",
   "language": "python",
   "name": "python3"
  },
  "language_info": {
   "codemirror_mode": {
    "name": "ipython",
    "version": 3
   },
   "file_extension": ".py",
   "mimetype": "text/x-python",
   "name": "python",
   "nbconvert_exporter": "python",
   "pygments_lexer": "ipython3",
   "version": "3.7.13"
  }
 },
 "nbformat": 4,
 "nbformat_minor": 4
}
